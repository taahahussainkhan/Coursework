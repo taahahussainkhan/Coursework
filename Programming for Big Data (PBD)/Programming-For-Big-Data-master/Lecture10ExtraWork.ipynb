{
 "cells": [
  {
   "cell_type": "markdown",
   "metadata": {},
   "source": [
    "# Data Grouping using pandas"
   ]
  },
  {
   "cell_type": "code",
   "execution_count": 1,
   "metadata": {
    "collapsed": true
   },
   "outputs": [],
   "source": [
    "import pandas as pd"
   ]
  },
  {
   "cell_type": "code",
   "execution_count": 2,
   "metadata": {
    "collapsed": true
   },
   "outputs": [],
   "source": [
    "d = {'regiment':['Punjab','Punjab','Punjab','Punjab','Sindh','Sindh','Sindh','Sindh','KP','KP','KP','KP'],\n",
    "     'company':['1st','1st','2nd','2nd','1st','1st','2nd','2nd','1st','1st','2nd','2nd'],\n",
    "    'name':['Ali','Zain','Safdar','Hameed','Kamran','Imran','Irfan','Adnan','Zeeshan','Awais','Kazmi','Nauman'],\n",
    "     'PreTestScore':[34,4,4,2,4,31,2,4,5,6,76,5],'PostTestScore':[25,45,56,67,25,34,45,56,67,67,56,98]}"
   ]
  },
  {
   "cell_type": "code",
   "execution_count": 3,
   "metadata": {},
   "outputs": [
    {
     "data": {
      "text/plain": [
       "{'PostTestScore': [25, 45, 56, 67, 25, 34, 45, 56, 67, 67, 56, 98],\n",
       " 'PreTestScore': [34, 4, 4, 2, 4, 31, 2, 4, 5, 6, 76, 5],\n",
       " 'company': ['1st',\n",
       "  '1st',\n",
       "  '2nd',\n",
       "  '2nd',\n",
       "  '1st',\n",
       "  '1st',\n",
       "  '2nd',\n",
       "  '2nd',\n",
       "  '1st',\n",
       "  '1st',\n",
       "  '2nd',\n",
       "  '2nd'],\n",
       " 'name': ['Ali',\n",
       "  'Zain',\n",
       "  'Safdar',\n",
       "  'Hameed',\n",
       "  'Kamran',\n",
       "  'Imran',\n",
       "  'Irfan',\n",
       "  'Adnan',\n",
       "  'Zeeshan',\n",
       "  'Awais',\n",
       "  'Kazmi',\n",
       "  'Nauman'],\n",
       " 'regiment': ['Punjab',\n",
       "  'Punjab',\n",
       "  'Punjab',\n",
       "  'Punjab',\n",
       "  'Sindh',\n",
       "  'Sindh',\n",
       "  'Sindh',\n",
       "  'Sindh',\n",
       "  'KP',\n",
       "  'KP',\n",
       "  'KP',\n",
       "  'KP']}"
      ]
     },
     "execution_count": 3,
     "metadata": {},
     "output_type": "execute_result"
    }
   ],
   "source": [
    "d"
   ]
  },
  {
   "cell_type": "code",
   "execution_count": 4,
   "metadata": {
    "collapsed": true
   },
   "outputs": [],
   "source": [
    "army = pd.DataFrame(d,columns=d.keys())"
   ]
  },
  {
   "cell_type": "code",
   "execution_count": 5,
   "metadata": {},
   "outputs": [
    {
     "data": {
      "text/html": [
       "<div>\n",
       "<style>\n",
       "    .dataframe thead tr:only-child th {\n",
       "        text-align: right;\n",
       "    }\n",
       "\n",
       "    .dataframe thead th {\n",
       "        text-align: left;\n",
       "    }\n",
       "\n",
       "    .dataframe tbody tr th {\n",
       "        vertical-align: top;\n",
       "    }\n",
       "</style>\n",
       "<table border=\"1\" class=\"dataframe\">\n",
       "  <thead>\n",
       "    <tr style=\"text-align: right;\">\n",
       "      <th></th>\n",
       "      <th>regiment</th>\n",
       "      <th>company</th>\n",
       "      <th>name</th>\n",
       "      <th>PreTestScore</th>\n",
       "      <th>PostTestScore</th>\n",
       "    </tr>\n",
       "  </thead>\n",
       "  <tbody>\n",
       "    <tr>\n",
       "      <th>0</th>\n",
       "      <td>Punjab</td>\n",
       "      <td>1st</td>\n",
       "      <td>Ali</td>\n",
       "      <td>34</td>\n",
       "      <td>25</td>\n",
       "    </tr>\n",
       "    <tr>\n",
       "      <th>1</th>\n",
       "      <td>Punjab</td>\n",
       "      <td>1st</td>\n",
       "      <td>Zain</td>\n",
       "      <td>4</td>\n",
       "      <td>45</td>\n",
       "    </tr>\n",
       "    <tr>\n",
       "      <th>2</th>\n",
       "      <td>Punjab</td>\n",
       "      <td>2nd</td>\n",
       "      <td>Safdar</td>\n",
       "      <td>4</td>\n",
       "      <td>56</td>\n",
       "    </tr>\n",
       "    <tr>\n",
       "      <th>3</th>\n",
       "      <td>Punjab</td>\n",
       "      <td>2nd</td>\n",
       "      <td>Hameed</td>\n",
       "      <td>2</td>\n",
       "      <td>67</td>\n",
       "    </tr>\n",
       "    <tr>\n",
       "      <th>4</th>\n",
       "      <td>Sindh</td>\n",
       "      <td>1st</td>\n",
       "      <td>Kamran</td>\n",
       "      <td>4</td>\n",
       "      <td>25</td>\n",
       "    </tr>\n",
       "  </tbody>\n",
       "</table>\n",
       "</div>"
      ],
      "text/plain": [
       "  regiment company    name  PreTestScore  PostTestScore\n",
       "0   Punjab     1st     Ali            34             25\n",
       "1   Punjab     1st    Zain             4             45\n",
       "2   Punjab     2nd  Safdar             4             56\n",
       "3   Punjab     2nd  Hameed             2             67\n",
       "4    Sindh     1st  Kamran             4             25"
      ]
     },
     "execution_count": 5,
     "metadata": {},
     "output_type": "execute_result"
    }
   ],
   "source": [
    "army.head()"
   ]
  },
  {
   "cell_type": "code",
   "execution_count": 6,
   "metadata": {},
   "outputs": [
    {
     "data": {
      "text/html": [
       "<div>\n",
       "<style>\n",
       "    .dataframe thead tr:only-child th {\n",
       "        text-align: right;\n",
       "    }\n",
       "\n",
       "    .dataframe thead th {\n",
       "        text-align: left;\n",
       "    }\n",
       "\n",
       "    .dataframe tbody tr th {\n",
       "        vertical-align: top;\n",
       "    }\n",
       "</style>\n",
       "<table border=\"1\" class=\"dataframe\">\n",
       "  <thead>\n",
       "    <tr style=\"text-align: right;\">\n",
       "      <th></th>\n",
       "      <th>regiment</th>\n",
       "      <th>company</th>\n",
       "      <th>name</th>\n",
       "      <th>PreTestScore</th>\n",
       "      <th>PostTestScore</th>\n",
       "    </tr>\n",
       "  </thead>\n",
       "  <tbody>\n",
       "    <tr>\n",
       "      <th>0</th>\n",
       "      <td>Punjab</td>\n",
       "      <td>1st</td>\n",
       "      <td>Ali</td>\n",
       "      <td>34</td>\n",
       "      <td>25</td>\n",
       "    </tr>\n",
       "    <tr>\n",
       "      <th>1</th>\n",
       "      <td>Punjab</td>\n",
       "      <td>1st</td>\n",
       "      <td>Zain</td>\n",
       "      <td>4</td>\n",
       "      <td>45</td>\n",
       "    </tr>\n",
       "    <tr>\n",
       "      <th>2</th>\n",
       "      <td>Punjab</td>\n",
       "      <td>2nd</td>\n",
       "      <td>Safdar</td>\n",
       "      <td>4</td>\n",
       "      <td>56</td>\n",
       "    </tr>\n",
       "    <tr>\n",
       "      <th>3</th>\n",
       "      <td>Punjab</td>\n",
       "      <td>2nd</td>\n",
       "      <td>Hameed</td>\n",
       "      <td>2</td>\n",
       "      <td>67</td>\n",
       "    </tr>\n",
       "    <tr>\n",
       "      <th>4</th>\n",
       "      <td>Sindh</td>\n",
       "      <td>1st</td>\n",
       "      <td>Kamran</td>\n",
       "      <td>4</td>\n",
       "      <td>25</td>\n",
       "    </tr>\n",
       "    <tr>\n",
       "      <th>5</th>\n",
       "      <td>Sindh</td>\n",
       "      <td>1st</td>\n",
       "      <td>Imran</td>\n",
       "      <td>31</td>\n",
       "      <td>34</td>\n",
       "    </tr>\n",
       "    <tr>\n",
       "      <th>6</th>\n",
       "      <td>Sindh</td>\n",
       "      <td>2nd</td>\n",
       "      <td>Irfan</td>\n",
       "      <td>2</td>\n",
       "      <td>45</td>\n",
       "    </tr>\n",
       "    <tr>\n",
       "      <th>7</th>\n",
       "      <td>Sindh</td>\n",
       "      <td>2nd</td>\n",
       "      <td>Adnan</td>\n",
       "      <td>4</td>\n",
       "      <td>56</td>\n",
       "    </tr>\n",
       "    <tr>\n",
       "      <th>8</th>\n",
       "      <td>KP</td>\n",
       "      <td>1st</td>\n",
       "      <td>Zeeshan</td>\n",
       "      <td>5</td>\n",
       "      <td>67</td>\n",
       "    </tr>\n",
       "    <tr>\n",
       "      <th>9</th>\n",
       "      <td>KP</td>\n",
       "      <td>1st</td>\n",
       "      <td>Awais</td>\n",
       "      <td>6</td>\n",
       "      <td>67</td>\n",
       "    </tr>\n",
       "    <tr>\n",
       "      <th>10</th>\n",
       "      <td>KP</td>\n",
       "      <td>2nd</td>\n",
       "      <td>Kazmi</td>\n",
       "      <td>76</td>\n",
       "      <td>56</td>\n",
       "    </tr>\n",
       "    <tr>\n",
       "      <th>11</th>\n",
       "      <td>KP</td>\n",
       "      <td>2nd</td>\n",
       "      <td>Nauman</td>\n",
       "      <td>5</td>\n",
       "      <td>98</td>\n",
       "    </tr>\n",
       "  </tbody>\n",
       "</table>\n",
       "</div>"
      ],
      "text/plain": [
       "   regiment company     name  PreTestScore  PostTestScore\n",
       "0    Punjab     1st      Ali            34             25\n",
       "1    Punjab     1st     Zain             4             45\n",
       "2    Punjab     2nd   Safdar             4             56\n",
       "3    Punjab     2nd   Hameed             2             67\n",
       "4     Sindh     1st   Kamran             4             25\n",
       "5     Sindh     1st    Imran            31             34\n",
       "6     Sindh     2nd    Irfan             2             45\n",
       "7     Sindh     2nd    Adnan             4             56\n",
       "8        KP     1st  Zeeshan             5             67\n",
       "9        KP     1st    Awais             6             67\n",
       "10       KP     2nd    Kazmi            76             56\n",
       "11       KP     2nd   Nauman             5             98"
      ]
     },
     "execution_count": 6,
     "metadata": {},
     "output_type": "execute_result"
    }
   ],
   "source": [
    "army.head(12)"
   ]
  },
  {
   "cell_type": "code",
   "execution_count": 7,
   "metadata": {},
   "outputs": [
    {
     "data": {
      "text/html": [
       "<div>\n",
       "<style>\n",
       "    .dataframe thead tr:only-child th {\n",
       "        text-align: right;\n",
       "    }\n",
       "\n",
       "    .dataframe thead th {\n",
       "        text-align: left;\n",
       "    }\n",
       "\n",
       "    .dataframe tbody tr th {\n",
       "        vertical-align: top;\n",
       "    }\n",
       "</style>\n",
       "<table border=\"1\" class=\"dataframe\">\n",
       "  <thead>\n",
       "    <tr style=\"text-align: right;\">\n",
       "      <th></th>\n",
       "      <th>PreTestScore</th>\n",
       "      <th>PostTestScore</th>\n",
       "    </tr>\n",
       "    <tr>\n",
       "      <th>regiment</th>\n",
       "      <th></th>\n",
       "      <th></th>\n",
       "    </tr>\n",
       "  </thead>\n",
       "  <tbody>\n",
       "    <tr>\n",
       "      <th>Punjab</th>\n",
       "      <td>11.0</td>\n",
       "      <td>48.25</td>\n",
       "    </tr>\n",
       "  </tbody>\n",
       "</table>\n",
       "</div>"
      ],
      "text/plain": [
       "          PreTestScore  PostTestScore\n",
       "regiment                             \n",
       "Punjab            11.0          48.25"
      ]
     },
     "execution_count": 7,
     "metadata": {},
     "output_type": "execute_result"
    }
   ],
   "source": [
    "army[army['regiment'] == 'Punjab'].groupby('regiment').mean()"
   ]
  },
  {
   "cell_type": "code",
   "execution_count": 11,
   "metadata": {},
   "outputs": [
    {
     "data": {
      "text/html": [
       "<div>\n",
       "<style>\n",
       "    .dataframe thead tr:only-child th {\n",
       "        text-align: right;\n",
       "    }\n",
       "\n",
       "    .dataframe thead th {\n",
       "        text-align: left;\n",
       "    }\n",
       "\n",
       "    .dataframe tbody tr th {\n",
       "        vertical-align: top;\n",
       "    }\n",
       "</style>\n",
       "<table border=\"1\" class=\"dataframe\">\n",
       "  <thead>\n",
       "    <tr style=\"text-align: right;\">\n",
       "      <th></th>\n",
       "      <th>PreTestScore</th>\n",
       "      <th>PostTestScore</th>\n",
       "    </tr>\n",
       "    <tr>\n",
       "      <th>regiment</th>\n",
       "      <th></th>\n",
       "      <th></th>\n",
       "    </tr>\n",
       "  </thead>\n",
       "  <tbody>\n",
       "    <tr>\n",
       "      <th>KP</th>\n",
       "      <td>23.00</td>\n",
       "      <td>72.00</td>\n",
       "    </tr>\n",
       "    <tr>\n",
       "      <th>Punjab</th>\n",
       "      <td>11.00</td>\n",
       "      <td>48.25</td>\n",
       "    </tr>\n",
       "    <tr>\n",
       "      <th>Sindh</th>\n",
       "      <td>10.25</td>\n",
       "      <td>40.00</td>\n",
       "    </tr>\n",
       "  </tbody>\n",
       "</table>\n",
       "</div>"
      ],
      "text/plain": [
       "          PreTestScore  PostTestScore\n",
       "regiment                             \n",
       "KP               23.00          72.00\n",
       "Punjab           11.00          48.25\n",
       "Sindh            10.25          40.00"
      ]
     },
     "execution_count": 11,
     "metadata": {},
     "output_type": "execute_result"
    }
   ],
   "source": [
    "army.groupby('regiment').mean()"
   ]
  },
  {
   "cell_type": "code",
   "execution_count": 12,
   "metadata": {},
   "outputs": [
    {
     "data": {
      "text/html": [
       "<div>\n",
       "<style>\n",
       "    .dataframe thead tr:only-child th {\n",
       "        text-align: right;\n",
       "    }\n",
       "\n",
       "    .dataframe thead th {\n",
       "        text-align: left;\n",
       "    }\n",
       "\n",
       "    .dataframe tbody tr th {\n",
       "        vertical-align: top;\n",
       "    }\n",
       "</style>\n",
       "<table border=\"1\" class=\"dataframe\">\n",
       "  <thead>\n",
       "    <tr>\n",
       "      <th></th>\n",
       "      <th colspan=\"8\" halign=\"left\">PostTestScore</th>\n",
       "      <th colspan=\"8\" halign=\"left\">PreTestScore</th>\n",
       "    </tr>\n",
       "    <tr>\n",
       "      <th></th>\n",
       "      <th>count</th>\n",
       "      <th>mean</th>\n",
       "      <th>std</th>\n",
       "      <th>min</th>\n",
       "      <th>25%</th>\n",
       "      <th>50%</th>\n",
       "      <th>75%</th>\n",
       "      <th>max</th>\n",
       "      <th>count</th>\n",
       "      <th>mean</th>\n",
       "      <th>std</th>\n",
       "      <th>min</th>\n",
       "      <th>25%</th>\n",
       "      <th>50%</th>\n",
       "      <th>75%</th>\n",
       "      <th>max</th>\n",
       "    </tr>\n",
       "    <tr>\n",
       "      <th>company</th>\n",
       "      <th></th>\n",
       "      <th></th>\n",
       "      <th></th>\n",
       "      <th></th>\n",
       "      <th></th>\n",
       "      <th></th>\n",
       "      <th></th>\n",
       "      <th></th>\n",
       "      <th></th>\n",
       "      <th></th>\n",
       "      <th></th>\n",
       "      <th></th>\n",
       "      <th></th>\n",
       "      <th></th>\n",
       "      <th></th>\n",
       "      <th></th>\n",
       "    </tr>\n",
       "  </thead>\n",
       "  <tbody>\n",
       "    <tr>\n",
       "      <th>1st</th>\n",
       "      <td>6.0</td>\n",
       "      <td>43.833333</td>\n",
       "      <td>19.395017</td>\n",
       "      <td>25.0</td>\n",
       "      <td>27.25</td>\n",
       "      <td>39.5</td>\n",
       "      <td>61.50</td>\n",
       "      <td>67.0</td>\n",
       "      <td>6.0</td>\n",
       "      <td>14.0</td>\n",
       "      <td>14.380542</td>\n",
       "      <td>4.0</td>\n",
       "      <td>4.25</td>\n",
       "      <td>5.5</td>\n",
       "      <td>24.75</td>\n",
       "      <td>34.0</td>\n",
       "    </tr>\n",
       "    <tr>\n",
       "      <th>2nd</th>\n",
       "      <td>6.0</td>\n",
       "      <td>63.000000</td>\n",
       "      <td>18.504054</td>\n",
       "      <td>45.0</td>\n",
       "      <td>56.00</td>\n",
       "      <td>56.0</td>\n",
       "      <td>64.25</td>\n",
       "      <td>98.0</td>\n",
       "      <td>6.0</td>\n",
       "      <td>15.5</td>\n",
       "      <td>29.663108</td>\n",
       "      <td>2.0</td>\n",
       "      <td>2.50</td>\n",
       "      <td>4.0</td>\n",
       "      <td>4.75</td>\n",
       "      <td>76.0</td>\n",
       "    </tr>\n",
       "  </tbody>\n",
       "</table>\n",
       "</div>"
      ],
      "text/plain": [
       "        PostTestScore                                                        \\\n",
       "                count       mean        std   min    25%   50%    75%   max   \n",
       "company                                                                       \n",
       "1st               6.0  43.833333  19.395017  25.0  27.25  39.5  61.50  67.0   \n",
       "2nd               6.0  63.000000  18.504054  45.0  56.00  56.0  64.25  98.0   \n",
       "\n",
       "        PreTestScore                                                \n",
       "               count  mean        std  min   25%  50%    75%   max  \n",
       "company                                                             \n",
       "1st              6.0  14.0  14.380542  4.0  4.25  5.5  24.75  34.0  \n",
       "2nd              6.0  15.5  29.663108  2.0  2.50  4.0   4.75  76.0  "
      ]
     },
     "execution_count": 12,
     "metadata": {},
     "output_type": "execute_result"
    }
   ],
   "source": [
    "army.groupby('company').describe()"
   ]
  },
  {
   "cell_type": "code",
   "execution_count": 13,
   "metadata": {},
   "outputs": [
    {
     "data": {
      "text/plain": [
       "regiment  company\n",
       "KP        1st         5.5\n",
       "          2nd        40.5\n",
       "Punjab    1st        19.0\n",
       "          2nd         3.0\n",
       "Sindh     1st        17.5\n",
       "          2nd         3.0\n",
       "Name: PreTestScore, dtype: float64"
      ]
     },
     "execution_count": 13,
     "metadata": {},
     "output_type": "execute_result"
    }
   ],
   "source": [
    "army.groupby(['regiment','company']).PreTestScore.mean()"
   ]
  },
  {
   "cell_type": "code",
   "execution_count": null,
   "metadata": {
    "collapsed": true
   },
   "outputs": [],
   "source": []
  },
  {
   "cell_type": "code",
   "execution_count": null,
   "metadata": {
    "collapsed": true
   },
   "outputs": [],
   "source": []
  },
  {
   "cell_type": "code",
   "execution_count": null,
   "metadata": {
    "collapsed": true
   },
   "outputs": [],
   "source": []
  },
  {
   "cell_type": "code",
   "execution_count": null,
   "metadata": {
    "collapsed": true
   },
   "outputs": [],
   "source": []
  }
 ],
 "metadata": {
  "kernelspec": {
   "display_name": "Python 3",
   "language": "python",
   "name": "python3"
  },
  "language_info": {
   "codemirror_mode": {
    "name": "ipython",
    "version": 3
   },
   "file_extension": ".py",
   "mimetype": "text/x-python",
   "name": "python",
   "nbconvert_exporter": "python",
   "pygments_lexer": "ipython3",
   "version": "3.6.3"
  }
 },
 "nbformat": 4,
 "nbformat_minor": 2
}
