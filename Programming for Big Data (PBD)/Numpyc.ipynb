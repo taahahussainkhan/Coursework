{
 "cells": [
  {
   "cell_type": "markdown",
   "metadata": {},
   "source": [
    "Create a NumPy array with values ranging from 0 to 10."
   ]
  },
  {
   "cell_type": "code",
   "execution_count": 2,
   "metadata": {},
   "outputs": [
    {
     "name": "stdout",
     "output_type": "stream",
     "text": [
      "[ 0  1  2  3  4  5  6  7  8  9 10]\n"
     ]
    }
   ],
   "source": [
    "import numpy as np\n",
    "\n",
    "arr = np.arange(11)\n",
    "print(arr)\n"
   ]
  },
  {
   "cell_type": "markdown",
   "metadata": {},
   "source": [
    "Create a NumPy array of zeros with shape (3, 4)."
   ]
  },
  {
   "cell_type": "code",
   "execution_count": 3,
   "metadata": {},
   "outputs": [
    {
     "name": "stdout",
     "output_type": "stream",
     "text": [
      "[[0. 0. 0. 0.]\n",
      " [0. 0. 0. 0.]]\n"
     ]
    }
   ],
   "source": [
    "zeros_array = np.zeros((2, 4))\n",
    "print(zeros_array)"
   ]
  },
  {
   "cell_type": "markdown",
   "metadata": {},
   "source": [
    "Create a NumPy array of ones with shape (2, 3, 4)."
   ]
  },
  {
   "cell_type": "code",
   "execution_count": 4,
   "metadata": {},
   "outputs": [
    {
     "name": "stdout",
     "output_type": "stream",
     "text": [
      "[[[1. 1. 1. 1.]\n",
      "  [1. 1. 1. 1.]\n",
      "  [1. 1. 1. 1.]]\n",
      "\n",
      " [[1. 1. 1. 1.]\n",
      "  [1. 1. 1. 1.]\n",
      "  [1. 1. 1. 1.]]]\n"
     ]
    }
   ],
   "source": [
    "ones_arr = np.ones((2, 3, 4))\n",
    "print(ones_arr)"
   ]
  },
  {
   "cell_type": "markdown",
   "metadata": {},
   "source": [
    "Create a 3x3 identity matrix using NumPy."
   ]
  },
  {
   "cell_type": "code",
   "execution_count": 4,
   "metadata": {},
   "outputs": [
    {
     "name": "stdout",
     "output_type": "stream",
     "text": [
      "[[1. 0. 0.]\n",
      " [0. 1. 0.]\n",
      " [0. 0. 1.]]\n"
     ]
    }
   ],
   "source": [
    "identity_matrix = np.eye(3)\n",
    "print(identity_matrix)\n"
   ]
  },
  {
   "cell_type": "markdown",
   "metadata": {},
   "source": [
    "Create a 2D NumPy array with shape (3, 3) and fill it with random values."
   ]
  },
  {
   "cell_type": "code",
   "execution_count": 7,
   "metadata": {},
   "outputs": [
    {
     "name": "stdout",
     "output_type": "stream",
     "text": [
      "[[0.26464146 0.48810171 0.89678443]\n",
      " [0.28138007 0.85679191 0.92180135]]\n"
     ]
    }
   ],
   "source": [
    "arr = np.random.rand(2, 3)\n",
    "print(arr)"
   ]
  },
  {
   "cell_type": "markdown",
   "metadata": {},
   "source": [
    "Create a NumPy array with values from 1 to 10 and return only the even values."
   ]
  },
  {
   "cell_type": "code",
   "execution_count": 6,
   "metadata": {},
   "outputs": [
    {
     "name": "stdout",
     "output_type": "stream",
     "text": [
      "[ 2  4  6  8 10]\n"
     ]
    }
   ],
   "source": [
    "# create NumPy array with values from 1 to 10\n",
    "arr = np.arange(1, 11)\n",
    "\n",
    "# return only the even values\n",
    "even_arr = arr[arr % 2 == 0]\n",
    "\n",
    "print(even_arr) "
   ]
  },
  {
   "cell_type": "markdown",
   "metadata": {},
   "source": [
    "Create a NumPy array with values from 1 to 20 and reshape it to (5, 4)"
   ]
  },
  {
   "cell_type": "code",
   "execution_count": 7,
   "metadata": {},
   "outputs": [
    {
     "name": "stdout",
     "output_type": "stream",
     "text": [
      "[[ 1  2  3  4]\n",
      " [ 5  6  7  8]\n",
      " [ 9 10 11 12]\n",
      " [13 14 15 16]\n",
      " [17 18 19 20]]\n"
     ]
    }
   ],
   "source": [
    "arr = np.arange(1, 21)\n",
    "\n",
    "# reshape the array to a 5x4 matrix\n",
    "arr_2d = arr.reshape(5, 4)\n",
    "\n",
    "print(arr_2d)"
   ]
  },
  {
   "cell_type": "markdown",
   "metadata": {},
   "source": [
    "Transpose the array."
   ]
  },
  {
   "cell_type": "code",
   "execution_count": 8,
   "metadata": {},
   "outputs": [
    {
     "name": "stdout",
     "output_type": "stream",
     "text": [
      "[[ 1  5  9 13 17]\n",
      " [ 2  6 10 14 18]\n",
      " [ 3  7 11 15 19]\n",
      " [ 4  8 12 16 20]]\n"
     ]
    }
   ],
   "source": [
    "arr_t = arr_2d.transpose()\n",
    "print(arr_t)\n"
   ]
  },
  {
   "cell_type": "markdown",
   "metadata": {},
   "source": [
    "Given two NumPy arrays, add them together element-wise."
   ]
  },
  {
   "cell_type": "code",
   "execution_count": 9,
   "metadata": {},
   "outputs": [
    {
     "name": "stdout",
     "output_type": "stream",
     "text": [
      "[5 7 9]\n"
     ]
    }
   ],
   "source": [
    "a = np.array([1, 2, 3])\n",
    "b = np.array([4, 5, 6])\n",
    "\n",
    "result = a + b\n",
    "\n",
    "print(result)"
   ]
  },
  {
   "cell_type": "code",
   "execution_count": 10,
   "metadata": {},
   "outputs": [
    {
     "name": "stdout",
     "output_type": "stream",
     "text": [
      "[[ 6  8]\n",
      " [10 12]]\n"
     ]
    }
   ],
   "source": [
    "a = np.array([[1, 2], [3, 4]])\n",
    "b = np.array([[5, 6], [7, 8]])\n",
    "\n",
    "result = a + b\n",
    "\n",
    "print(result)"
   ]
  },
  {
   "cell_type": "markdown",
   "metadata": {},
   "source": [
    "Given a NumPy array, find the minimum and maximum values."
   ]
  },
  {
   "cell_type": "code",
   "execution_count": 13,
   "metadata": {},
   "outputs": [
    {
     "name": "stdout",
     "output_type": "stream",
     "text": [
      "Mean: 5.0\n",
      "Median: 5.0\n",
      "Standard deviation: 2.581988897471611\n",
      "Variance: 6.666666666666667\n",
      "Cumulative sum: [ 5  7 15 16 22 31 34 41 45]\n",
      "Cumulative product: [     5     10     80     80    480   4320  12960  90720 362880]\n",
      "Minimum value: 1\n",
      "Maximum value: 9\n"
     ]
    }
   ],
   "source": [
    "arr = np.array([5, 2, 8, 1, 6, 9, 3, 7, 4])\n",
    "\n",
    "min_val = np.min(arr)\n",
    "max_val = np.max(arr)\n",
    "cumulative_sum = np.cumsum(arr)\n",
    "cumulative_product = np.cumprod(arr)\n",
    "std_dev = np.std(arr)\n",
    "variance = np.var(arr)\n",
    "mean = np.mean(arr)\n",
    "median = np.median(arr)\n",
    "\n",
    "print(\"Mean:\", mean)\n",
    "print(\"Median:\", median)\n",
    "print(\"Standard deviation:\", std_dev)\n",
    "print(\"Variance:\", variance)\n",
    "print(\"Cumulative sum:\", cumulative_sum)\n",
    "print(\"Cumulative product:\", cumulative_product)\n",
    "print(\"Minimum value:\", min_val)\n",
    "print(\"Maximum value:\", max_val)"
   ]
  },
  {
   "cell_type": "markdown",
   "metadata": {},
   "source": [
    "A company has collected data on the number of orders they receive every hour for a week. They have stored this data in a NumPy array with shape (7, 24). Each row represents a day of the week, and each column represents an hour of the day. The company wants to analyze this data to identify the busiest day and hour of the week.\n",
    "\n",
    "Question: Using NumPy, how would you identify the busiest day and hour of the week based on the data provided in the NumPy array?"
   ]
  },
  {
   "cell_type": "code",
   "execution_count": 5,
   "metadata": {},
   "outputs": [
    {
     "name": "stdout",
     "output_type": "stream",
     "text": [
      "The busiest hour of the week is 10:00, with 473 orders received.\n",
      "The busiest day of the week is day 1, with 1342 orders received.\n"
     ]
    }
   ],
   "source": [
    "import numpy as np\n",
    "\n",
    "# Generate the NumPy array with shape (7, 24)\n",
    "orders = np.random.randint(0, 100, size=(7, 24))\n",
    "\n",
    "# Compute the sum of all elements of the NumPy array\n",
    "total_orders = np.sum(orders)\n",
    "\n",
    "# Compute the sum of each row of the NumPy array\n",
    "daily_orders = np.sum(orders, axis=1)\n",
    "\n",
    "# Compute the sum of each column of the NumPy array\n",
    "hourly_orders = np.sum(orders, axis=0)\n",
    "\n",
    "# Identify the busiest hour of the week\n",
    "busiest_hour = np.argmax(hourly_orders)\n",
    "\n",
    "# Identify the busiest day of the week\n",
    "busiest_day = np.argmax(daily_orders)\n",
    "\n",
    "print(f\"The busiest hour of the week is {busiest_hour}:00, with {hourly_orders[busiest_hour]} orders received.\")\n",
    "print(f\"The busiest day of the week is day {busiest_day+1}, with {daily_orders[busiest_day]} orders received.\")\n"
   ]
  },
  {
   "cell_type": "markdown",
   "metadata": {},
   "source": [
    "A sports analyst wants to analyze the performance of a soccer team over a season. They have data on the number of goals scored and conceded in each match of the season, stored in two separate NumPy arrays. They also have data on the result of each match, stored in a separate NumPy array where 0 represents a loss, 1 represents a draw, and 3 represents a win.\n",
    "\n",
    "Question: Using NumPy, how would you calculate the total number of goals scored and conceded by the team over the season, as well as their win percentage?"
   ]
  },
  {
   "cell_type": "code",
   "execution_count": 16,
   "metadata": {},
   "outputs": [
    {
     "name": "stdout",
     "output_type": "stream",
     "text": [
      "Total goals scored: 9\n",
      "Total goals conceded: 6\n",
      "Win percentage: 0.6666666666666666\n"
     ]
    }
   ],
   "source": [
    "import numpy as np\n",
    "\n",
    "# Data on number of goals scored and conceded in each match\n",
    "goals_scored = np.array([2, 1, 3, 1, 0, 2])\n",
    "goals_conceded = np.array([0, 1, 1, 1, 2, 1])\n",
    "\n",
    "# Data on result of each match\n",
    "result = np.array([3, 3, 3, 0, 0, 3])\n",
    "\n",
    "# Calculate total number of goals scored and conceded\n",
    "total_goals_scored = np.sum(goals_scored)\n",
    "total_goals_conceded = np.sum(goals_conceded)\n",
    "\n",
    "# Calculate number of wins, losses, and draws\n",
    "num_wins = np.count_nonzero(result == 3)\n",
    "num_losses = np.count_nonzero(result == 0)\n",
    "num_draws = np.count_nonzero(result == 1)\n",
    "\n",
    "# Calculate win percentage\n",
    "total_matches = num_wins + num_losses + num_draws\n",
    "win_percentage = num_wins / total_matches\n",
    "\n",
    "print(\"Total goals scored:\", total_goals_scored)\n",
    "print(\"Total goals conceded:\", total_goals_conceded)\n",
    "print(\"Win percentage:\", win_percentage)\n"
   ]
  },
  {
   "cell_type": "markdown",
   "metadata": {},
   "source": [
    "A company wants to analyze the sales data for their products over a year. They have data on the sales revenue, cost of goods sold (COGS), marketing expenses, and employee salaries for each product in each quarter of the year. The data is stored in a NumPy array with shape (4, 3, 5, 4), where the first dimension represents the quarter, the second dimension represents the product, the third dimension represents the attribute (revenue, COGS, marketing expenses, employee salaries), and the fourth dimension represents the month.\n",
    "\n",
    "Question: Using NumPy, how would you calculate the following metrics for each quarter:\n",
    "\n",
    "Gross profit margin (revenue - COGS) / revenue\n",
    "Marketing spend as a percentage of revenue (marketing expenses / revenue)\n",
    "Employee salary as a percentage of revenue (employee salaries / revenue)\n",
    "Total revenue, COGS, marketing expenses, and employee salaries"
   ]
  },
  {
   "cell_type": "code",
   "execution_count": 20,
   "metadata": {},
   "outputs": [
    {
     "name": "stdout",
     "output_type": "stream",
     "text": [
      "Metrics for Quarter 1:\n",
      "Total revenue: 7268\n",
      "Total COGS: 6576\n",
      "Total marketing expenses: 5230\n",
      "Total employee salaries: 7617\n",
      "Gross profit margin: 9.52%\n",
      "Marketing spend as a percentage of revenue: 7195.93%\n",
      "Employee salary as a percentage of revenue: 10480.19%\n",
      "Metrics for Quarter 2:\n",
      "Total revenue: 6937\n",
      "Total COGS: 6512\n",
      "Total marketing expenses: 6043\n",
      "Total employee salaries: 7345\n",
      "Gross profit margin: 6.13%\n",
      "Marketing spend as a percentage of revenue: 8711.26%\n",
      "Employee salary as a percentage of revenue: 10588.15%\n",
      "Metrics for Quarter 3:\n",
      "Total revenue: 7032\n",
      "Total COGS: 6787\n",
      "Total marketing expenses: 7461\n",
      "Total employee salaries: 7240\n",
      "Gross profit margin: 3.48%\n",
      "Marketing spend as a percentage of revenue: 10610.07%\n",
      "Employee salary as a percentage of revenue: 10295.79%\n",
      "Metrics for Quarter 4:\n",
      "Total revenue: 7298\n",
      "Total COGS: 7578\n",
      "Total marketing expenses: 7446\n",
      "Total employee salaries: 5724\n",
      "Gross profit margin: -3.84%\n",
      "Marketing spend as a percentage of revenue: 10202.80%\n",
      "Employee salary as a percentage of revenue: 7843.24%\n"
     ]
    }
   ],
   "source": [
    "import numpy as np\n",
    "\n",
    "# Create a random sales data array\n",
    "sales_data = np.random.randint(100, 1000, size=(4, 3, 5, 4))\n",
    "\n",
    "# Calculate the metrics for each quarter\n",
    "for i in range(4):\n",
    "    print(f\"Metrics for Quarter {i+1}:\")\n",
    "    quarter_data = sales_data[i]\n",
    "    revenue = quarter_data[:, 0, :].sum()\n",
    "    cogs = quarter_data[:,  1, :].sum()\n",
    "    marketing_expenses = quarter_data[:, 2, :].sum()\n",
    "    employee_salaries = quarter_data[:, 3, :].sum()\n",
    "    gross_profit_margin = (revenue - cogs) / revenue\n",
    "    marketing_spend_percent = marketing_expenses / revenue * 100\n",
    "    employee_salary_percent = employee_salaries / revenue * 100\n",
    "    print(f\"Total revenue: {revenue}\")\n",
    "    print(f\"Total COGS: {cogs}\")\n",
    "    print(f\"Total marketing expenses: {marketing_expenses}\")\n",
    "    print(f\"Total employee salaries: {employee_salaries}\")\n",
    "    print(f\"Gross profit margin: {gross_profit_margin:.2%}\")\n",
    "    print(f\"Marketing spend as a percentage of revenue: {marketing_spend_percent:.2%}\")\n",
    "    print(f\"Employee salary as a percentage of revenue: {employee_salary_percent:.2%}\")\n"
   ]
  },
  {
   "cell_type": "code",
   "execution_count": 21,
   "metadata": {},
   "outputs": [],
   "source": [
    "# Generate random sales data\n",
    "sales_data = np.random.randint(100, 1000, size=(4, 3, 5, 4))"
   ]
  },
  {
   "cell_type": "code",
   "execution_count": 23,
   "metadata": {},
   "outputs": [
    {
     "name": "stdout",
     "output_type": "stream",
     "text": [
      "8451\n"
     ]
    }
   ],
   "source": [
    "# Get the total revenue for the first product in each quarter\n",
    "total_revenue = sales_data[:, 0, 0, :].sum()\n",
    "print(total_revenue)"
   ]
  },
  {
   "cell_type": "code",
   "execution_count": 24,
   "metadata": {},
   "outputs": [],
   "source": [
    "sales_data = np.random.randint(100, 1000, size=(4, 3, 5))"
   ]
  },
  {
   "cell_type": "code",
   "execution_count": 25,
   "metadata": {
    "scrolled": true
   },
   "outputs": [
    {
     "data": {
      "text/plain": [
       "array([[[725, 832, 835, 283, 995],\n",
       "        [348, 141, 125, 623, 332],\n",
       "        [947, 941, 518, 293, 969]],\n",
       "\n",
       "       [[928, 248, 266, 999, 757],\n",
       "        [234, 194, 732, 307, 576],\n",
       "        [371, 539, 592, 822, 822]],\n",
       "\n",
       "       [[572, 149, 737, 773, 692],\n",
       "        [914, 144, 186, 731, 374],\n",
       "        [787, 396, 810, 260, 754]],\n",
       "\n",
       "       [[829, 604, 468, 643, 878],\n",
       "        [748, 459, 544, 997, 637],\n",
       "        [385, 554, 295, 117, 556]]])"
      ]
     },
     "execution_count": 25,
     "metadata": {},
     "output_type": "execute_result"
    }
   ],
   "source": [
    "sales_data"
   ]
  },
  {
   "cell_type": "markdown",
   "metadata": {},
   "source": [
    "array[start1:end1, start2:end2, start3:end3]\n"
   ]
  },
  {
   "cell_type": "markdown",
   "metadata": {},
   "source": [
    "where start1:end1 specifies the range of indices to include along the first dimension, start2:end2 specifies the range of indices to include along the second dimension, and start3:end3 specifies the range of indices to include along the third dimension.\n",
    "\n",
    "For example, suppose you have a 3D array named sales_data with shape (4, 3, 5), and you want to extract a subset of data for the first quarter, second product, and all months. You would use the following slicing notation:"
   ]
  },
  {
   "cell_type": "code",
   "execution_count": 26,
   "metadata": {},
   "outputs": [],
   "source": [
    "subset = sales_data[0, 1, :]\n"
   ]
  },
  {
   "cell_type": "code",
   "execution_count": 27,
   "metadata": {},
   "outputs": [
    {
     "data": {
      "text/plain": [
       "array([348, 141, 125, 623, 332])"
      ]
     },
     "execution_count": 27,
     "metadata": {},
     "output_type": "execute_result"
    }
   ],
   "source": [
    "subset"
   ]
  },
  {
   "cell_type": "code",
   "execution_count": 28,
   "metadata": {},
   "outputs": [],
   "source": [
    "subset = sales_data[0, :, :2]\n"
   ]
  },
  {
   "cell_type": "code",
   "execution_count": 29,
   "metadata": {},
   "outputs": [
    {
     "data": {
      "text/plain": [
       "array([[725, 832],\n",
       "       [348, 141],\n",
       "       [947, 941]])"
      ]
     },
     "execution_count": 29,
     "metadata": {},
     "output_type": "execute_result"
    }
   ],
   "source": [
    "subset"
   ]
  },
  {
   "cell_type": "code",
   "execution_count": 10,
   "metadata": {},
   "outputs": [
    {
     "name": "stdout",
     "output_type": "stream",
     "text": [
      "[[[1. 1. 1.]\n",
      "  [1. 1. 1.]]]\n"
     ]
    }
   ],
   "source": [
    "import numpy as np\n",
    "taaha=np.ones((1,2,3))\n",
    "print(taaha)"
   ]
  },
  {
   "cell_type": "code",
   "execution_count": 13,
   "id": "37caefd3",
   "metadata": {},
   "outputs": [
    {
     "name": "stdout",
     "output_type": "stream",
     "text": [
      "[[2. 2. 2.]]\n"
     ]
    }
   ],
   "source": [
    "row=np.sum(taaha,axis=1)\n",
    "print(row)"
   ]
  },
  {
   "cell_type": "code",
   "execution_count": null,
   "id": "22c19bed",
   "metadata": {},
   "outputs": [],
   "source": []
  }
 ],
 "metadata": {
  "kernelspec": {
   "display_name": "Python 3",
   "language": "python",
   "name": "python3"
  },
  "language_info": {
   "codemirror_mode": {
    "name": "ipython",
    "version": 3
   },
   "file_extension": ".py",
   "mimetype": "text/x-python",
   "name": "python",
   "nbconvert_exporter": "python",
   "pygments_lexer": "ipython3",
   "version": "3.7.9"
  }
 },
 "nbformat": 4,
 "nbformat_minor": 5
}
