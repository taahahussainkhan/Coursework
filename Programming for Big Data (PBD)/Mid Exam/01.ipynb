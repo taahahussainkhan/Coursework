{
 "cells": [
  {
   "attachments": {},
   "cell_type": "markdown",
   "metadata": {},
   "source": [
    "# [Link](linktr.ee/taahahussainkhan)"
   ]
  },
  {
   "attachments": {},
   "cell_type": "markdown",
   "metadata": {},
   "source": [
    "# Question 01"
   ]
  },
  {
   "cell_type": "code",
   "execution_count": 1,
   "metadata": {},
   "outputs": [],
   "source": [
    "import numpy as np"
   ]
  },
  {
   "attachments": {},
   "cell_type": "markdown",
   "metadata": {},
   "source": [
    "# Part a"
   ]
  },
  {
   "cell_type": "code",
   "execution_count": 4,
   "metadata": {},
   "outputs": [
    {
     "data": {
      "text/plain": [
       "array([[0.66048391, 0.59045745, 0.81150763, 0.18669637, 0.21447567],\n",
       "       [0.33729468, 0.56129881, 0.91677196, 0.69832661, 0.36270168],\n",
       "       [0.35417495, 0.19493396, 0.76064317, 0.4280939 , 0.44132356],\n",
       "       [0.10064613, 0.28919264, 0.34386042, 0.66699611, 0.81637435],\n",
       "       [0.1381993 , 0.22019819, 0.35343938, 0.79615432, 0.18663647]])"
      ]
     },
     "execution_count": 4,
     "metadata": {},
     "output_type": "execute_result"
    }
   ],
   "source": [
    "random_arr = np.random.rand(5,5) # 5x5 matrix with random values\n",
    "random_arr"
   ]
  },
  {
   "cell_type": "code",
   "execution_count": 9,
   "metadata": {},
   "outputs": [
    {
     "data": {
      "text/plain": [
       "array([0.10064613, 0.1381993 , 0.18663647, 0.18669637, 0.19493396,\n",
       "       0.21447567, 0.22019819, 0.28919264, 0.33729468, 0.34386042,\n",
       "       0.35343938, 0.35417495, 0.36270168, 0.4280939 , 0.44132356,\n",
       "       0.56129881, 0.59045745, 0.66048391, 0.66699611, 0.69832661,\n",
       "       0.76064317, 0.79615432, 0.81150763, 0.81637435, 0.91677196])"
      ]
     },
     "execution_count": 9,
     "metadata": {},
     "output_type": "execute_result"
    }
   ],
   "source": [
    "flatt_arr = random_arr.flatten()\n",
    "sorted_arr = np.sort(flatt_arr,axis=0) # axis=0: sort by column, axis=1: sort by row\n",
    "sorted_arr"
   ]
  },
  {
   "cell_type": "code",
   "execution_count": 12,
   "metadata": {},
   "outputs": [
    {
     "name": "stdout",
     "output_type": "stream",
     "text": [
      "Second Minimum is: 0.13819930403160785\n",
      "Maximum is: 0.9167719564042718\n"
     ]
    }
   ],
   "source": [
    "second_min = sorted_arr[1] # 2nd minimum\n",
    "print(f'Second Minimum is: {second_min}')\n",
    "max_num = sorted_arr[-1] # Maximum\n",
    "print(f'Maximum is: {max_num}')"
   ]
  },
  {
   "attachments": {},
   "cell_type": "markdown",
   "metadata": {},
   "source": [
    "# Part b"
   ]
  },
  {
   "cell_type": "code",
   "execution_count": 19,
   "metadata": {},
   "outputs": [],
   "source": [
    "normalized_arr = (random_arr - second_min)/(max_num - second_min) # Normalization"
   ]
  },
  {
   "cell_type": "code",
   "execution_count": 25,
   "metadata": {},
   "outputs": [
    {
     "name": "stdout",
     "output_type": "stream",
     "text": [
      "Normalized array: [[ 0.67082321  0.58088111  0.86479833  0.06228971  0.09796949]\n",
      " [ 0.25571843  0.54342971  1.          0.71942843  0.28835122]\n",
      " [ 0.27739947  0.07287008  0.79946793  0.37234109  0.3893333 ]\n",
      " [-0.04823335  0.19393609  0.26415148  0.67918749  0.87104915]\n",
      " [ 0.40977031  0.1053195   0.2764547   0.84507851  0.06221277]]\n"
     ]
    }
   ],
   "source": [
    "print(f'Normalized array: {normalized_arr}')"
   ]
  },
  {
   "cell_type": "code",
   "execution_count": 26,
   "metadata": {},
   "outputs": [
    {
     "name": "stdout",
     "output_type": "stream",
     "text": [
      "Array after replacing 0 with mean: [[ 0.67082321  0.58088111  0.86479833  0.06228971  0.09796949]\n",
      " [ 0.25571843  0.54342971  1.          0.71942843  0.28835122]\n",
      " [ 0.27739947  0.07287008  0.79946793  0.37234109  0.3893333 ]\n",
      " [-0.04823335  0.19393609  0.26415148  0.67918749  0.87104915]\n",
      " [ 0.40977031  0.1053195   0.2764547   0.84507851  0.06221277]]\n"
     ]
    }
   ],
   "source": [
    "normalized_arr[normalized_arr == 0] = np.mean(normalized_arr) # Replace 0 with mean\n",
    "print(f'Array after replacing 0 with mean: {normalized_arr}')"
   ]
  },
  {
   "attachments": {},
   "cell_type": "markdown",
   "metadata": {},
   "source": [
    "# [Link](linktr.ee/taahahussainkhan)"
   ]
  }
 ],
 "metadata": {
  "kernelspec": {
   "display_name": "Python 3",
   "language": "python",
   "name": "python3"
  },
  "language_info": {
   "codemirror_mode": {
    "name": "ipython",
    "version": 3
   },
   "file_extension": ".py",
   "mimetype": "text/x-python",
   "name": "python",
   "nbconvert_exporter": "python",
   "pygments_lexer": "ipython3",
   "version": "3.7.9"
  },
  "orig_nbformat": 4
 },
 "nbformat": 4,
 "nbformat_minor": 2
}
