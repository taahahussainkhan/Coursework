{
 "cells": [
  {
   "cell_type": "code",
   "execution_count": 1,
   "id": "c936bc37",
   "metadata": {},
   "outputs": [],
   "source": [
    "import numpy as np\n",
    "import pandas as pd\n",
    "import matplotlib.pyplot as plt"
   ]
  },
  {
   "cell_type": "markdown",
   "id": "fbbea89b",
   "metadata": {},
   "source": [
    "# Part I"
   ]
  },
  {
   "cell_type": "code",
   "execution_count": 20,
   "id": "d3cc8b18",
   "metadata": {},
   "outputs": [
    {
     "data": {
      "text/plain": [
       "[[1, 'Apple', 2, 1.5],\n",
       " [1, 'Orange', 3, 2.75],\n",
       " [1, 'Banana', 1, 0.5],\n",
       " [2, 'Apple', 2, 2.5]]"
      ]
     },
     "execution_count": 20,
     "metadata": {},
     "output_type": "execute_result"
    }
   ],
   "source": [
    "orders_data= [\n",
    "    [1,'Apple',2,1.50],\n",
    "    [1,'Orange',3,2.75],\n",
    "    [1,'Banana',1,0.50],\n",
    "    [2,'Apple',2,2.50]\n",
    "]\n",
    "orders_data"
   ]
  },
  {
   "cell_type": "code",
   "execution_count": 21,
   "id": "31cfc32c",
   "metadata": {},
   "outputs": [
    {
     "data": {
      "text/plain": [
       "['OrderID', 'Product', 'Quantity', 'Price']"
      ]
     },
     "execution_count": 21,
     "metadata": {},
     "output_type": "execute_result"
    }
   ],
   "source": [
    "headers = ['OrderID' , 'Product','Quantity','Price']\n",
    "headers"
   ]
  },
  {
   "cell_type": "code",
   "execution_count": 22,
   "id": "641294b0",
   "metadata": {},
   "outputs": [
    {
     "data": {
      "text/plain": [
       "[{'OrderID': 1, 'Product': 'Apple', 'Quantity': 2, 'Price': 1.5},\n",
       " {'OrderID': 1, 'Product': 'Orange', 'Quantity': 3, 'Price': 2.75},\n",
       " {'OrderID': 1, 'Product': 'Banana', 'Quantity': 1, 'Price': 0.5},\n",
       " {'OrderID': 2, 'Product': 'Apple', 'Quantity': 2, 'Price': 2.5}]"
      ]
     },
     "execution_count": 22,
     "metadata": {},
     "output_type": "execute_result"
    }
   ],
   "source": [
    "orders_dict = [dict(zip(headers, row)) for row in orders_data]\n",
    "orders_dict"
   ]
  },
  {
   "cell_type": "markdown",
   "id": "a234ed45",
   "metadata": {},
   "source": [
    "# Part II"
   ]
  },
  {
   "cell_type": "code",
   "execution_count": 23,
   "id": "92acdda5",
   "metadata": {},
   "outputs": [
    {
     "data": {
      "text/html": [
       "<div>\n",
       "<style scoped>\n",
       "    .dataframe tbody tr th:only-of-type {\n",
       "        vertical-align: middle;\n",
       "    }\n",
       "\n",
       "    .dataframe tbody tr th {\n",
       "        vertical-align: top;\n",
       "    }\n",
       "\n",
       "    .dataframe thead th {\n",
       "        text-align: right;\n",
       "    }\n",
       "</style>\n",
       "<table border=\"1\" class=\"dataframe\">\n",
       "  <thead>\n",
       "    <tr style=\"text-align: right;\">\n",
       "      <th></th>\n",
       "      <th>OrderID</th>\n",
       "      <th>Product</th>\n",
       "      <th>Quantity</th>\n",
       "      <th>Price</th>\n",
       "    </tr>\n",
       "  </thead>\n",
       "  <tbody>\n",
       "    <tr>\n",
       "      <th>0</th>\n",
       "      <td>1</td>\n",
       "      <td>Apple</td>\n",
       "      <td>2</td>\n",
       "      <td>1.50</td>\n",
       "    </tr>\n",
       "    <tr>\n",
       "      <th>1</th>\n",
       "      <td>1</td>\n",
       "      <td>Orange</td>\n",
       "      <td>3</td>\n",
       "      <td>2.75</td>\n",
       "    </tr>\n",
       "    <tr>\n",
       "      <th>2</th>\n",
       "      <td>1</td>\n",
       "      <td>Banana</td>\n",
       "      <td>1</td>\n",
       "      <td>0.50</td>\n",
       "    </tr>\n",
       "    <tr>\n",
       "      <th>3</th>\n",
       "      <td>2</td>\n",
       "      <td>Apple</td>\n",
       "      <td>2</td>\n",
       "      <td>2.50</td>\n",
       "    </tr>\n",
       "  </tbody>\n",
       "</table>\n",
       "</div>"
      ],
      "text/plain": [
       "   OrderID Product  Quantity  Price\n",
       "0        1   Apple         2   1.50\n",
       "1        1  Orange         3   2.75\n",
       "2        1  Banana         1   0.50\n",
       "3        2   Apple         2   2.50"
      ]
     },
     "execution_count": 23,
     "metadata": {},
     "output_type": "execute_result"
    }
   ],
   "source": [
    "df = pd.DataFrame(orders_dict)\n",
    "df"
   ]
  },
  {
   "cell_type": "code",
   "execution_count": 24,
   "id": "127c2fb8",
   "metadata": {},
   "outputs": [
    {
     "data": {
      "text/html": [
       "<div>\n",
       "<style scoped>\n",
       "    .dataframe tbody tr th:only-of-type {\n",
       "        vertical-align: middle;\n",
       "    }\n",
       "\n",
       "    .dataframe tbody tr th {\n",
       "        vertical-align: top;\n",
       "    }\n",
       "\n",
       "    .dataframe thead th {\n",
       "        text-align: right;\n",
       "    }\n",
       "</style>\n",
       "<table border=\"1\" class=\"dataframe\">\n",
       "  <thead>\n",
       "    <tr style=\"text-align: right;\">\n",
       "      <th></th>\n",
       "      <th>OrderID</th>\n",
       "      <th>Product</th>\n",
       "      <th>Quantity</th>\n",
       "      <th>Price</th>\n",
       "      <th>Amount</th>\n",
       "    </tr>\n",
       "  </thead>\n",
       "  <tbody>\n",
       "    <tr>\n",
       "      <th>0</th>\n",
       "      <td>1</td>\n",
       "      <td>Apple</td>\n",
       "      <td>2</td>\n",
       "      <td>1.50</td>\n",
       "      <td>3.00</td>\n",
       "    </tr>\n",
       "    <tr>\n",
       "      <th>1</th>\n",
       "      <td>1</td>\n",
       "      <td>Orange</td>\n",
       "      <td>3</td>\n",
       "      <td>2.75</td>\n",
       "      <td>8.25</td>\n",
       "    </tr>\n",
       "    <tr>\n",
       "      <th>2</th>\n",
       "      <td>1</td>\n",
       "      <td>Banana</td>\n",
       "      <td>1</td>\n",
       "      <td>0.50</td>\n",
       "      <td>0.50</td>\n",
       "    </tr>\n",
       "    <tr>\n",
       "      <th>3</th>\n",
       "      <td>2</td>\n",
       "      <td>Apple</td>\n",
       "      <td>2</td>\n",
       "      <td>2.50</td>\n",
       "      <td>5.00</td>\n",
       "    </tr>\n",
       "  </tbody>\n",
       "</table>\n",
       "</div>"
      ],
      "text/plain": [
       "   OrderID Product  Quantity  Price  Amount\n",
       "0        1   Apple         2   1.50    3.00\n",
       "1        1  Orange         3   2.75    8.25\n",
       "2        1  Banana         1   0.50    0.50\n",
       "3        2   Apple         2   2.50    5.00"
      ]
     },
     "execution_count": 24,
     "metadata": {},
     "output_type": "execute_result"
    }
   ],
   "source": [
    "df['Amount'] =df['Quantity']*df['Price']\n",
    "df"
   ]
  },
  {
   "cell_type": "code",
   "execution_count": 25,
   "id": "93edeb1a",
   "metadata": {},
   "outputs": [
    {
     "name": "stdout",
     "output_type": "stream",
     "text": [
      "Updated DataFrame: \n",
      "   OrderID Product  Quantity  Price  Amount\n",
      "0        1   Apple         2   1.50    3.00\n",
      "1        1  Orange         3   2.75    8.25\n",
      "2        1  Banana         1   0.50    0.50\n",
      "3        2   Apple         2   2.50    5.00\n"
     ]
    }
   ],
   "source": [
    "print('Updated DataFrame: ')\n",
    "print(df)"
   ]
  },
  {
   "cell_type": "markdown",
   "id": "f3904f80",
   "metadata": {},
   "source": [
    "# Part III"
   ]
  },
  {
   "cell_type": "code",
   "execution_count": 32,
   "id": "0a4bb480",
   "metadata": {},
   "outputs": [],
   "source": [
    "def most_popular_sold(df):\n",
    "    prod_sales = df.groupby('Product')['Quantity'].sum()\n",
    "    most_pop = prod_sales.idxmax()\n",
    "    return most_pop"
   ]
  },
  {
   "cell_type": "code",
   "execution_count": 33,
   "id": "f064992b",
   "metadata": {},
   "outputs": [
    {
     "data": {
      "text/plain": [
       "'Apple'"
      ]
     },
     "execution_count": 33,
     "metadata": {},
     "output_type": "execute_result"
    }
   ],
   "source": [
    "most_popular_prod = most_popular_sold(df)\n",
    "most_popular_prod"
   ]
  },
  {
   "cell_type": "markdown",
   "id": "ac835d63",
   "metadata": {},
   "source": [
    "# Part IV"
   ]
  },
  {
   "cell_type": "code",
   "execution_count": 36,
   "id": "78d2d244",
   "metadata": {},
   "outputs": [],
   "source": [
    "def most_popular_order(df):\n",
    "    prod_orders = df.groupby('Product')['OrderID'].nunique()\n",
    "    most_pop = prod_orders.idxmax()\n",
    "    return most_pop"
   ]
  },
  {
   "cell_type": "code",
   "execution_count": 37,
   "id": "0e2efa06",
   "metadata": {},
   "outputs": [
    {
     "data": {
      "text/plain": [
       "'Apple'"
      ]
     },
     "execution_count": 37,
     "metadata": {},
     "output_type": "execute_result"
    }
   ],
   "source": [
    "most_p = most_popular_order(df)\n",
    "most_p"
   ]
  },
  {
   "cell_type": "markdown",
   "id": "7b1e4095",
   "metadata": {},
   "source": [
    "# Part V"
   ]
  },
  {
   "cell_type": "code",
   "execution_count": 40,
   "id": "eac67569",
   "metadata": {},
   "outputs": [],
   "source": [
    "def most_rev(df):\n",
    "    prod_orders = df.groupby('Product')['Amount'].sum()\n",
    "    most_rev = prod_orders.idxmax()\n",
    "    return most_rev"
   ]
  },
  {
   "cell_type": "code",
   "execution_count": 41,
   "id": "95b813fc",
   "metadata": {},
   "outputs": [
    {
     "data": {
      "text/plain": [
       "'Orange'"
      ]
     },
     "execution_count": 41,
     "metadata": {},
     "output_type": "execute_result"
    }
   ],
   "source": [
    "most_revenue = most_rev(df)\n",
    "most_revenue"
   ]
  },
  {
   "cell_type": "code",
   "execution_count": null,
   "id": "ff4c0b19",
   "metadata": {},
   "outputs": [],
   "source": []
  }
 ],
 "metadata": {
  "kernelspec": {
   "display_name": "Python 3 (ipykernel)",
   "language": "python",
   "name": "python3"
  },
  "language_info": {
   "codemirror_mode": {
    "name": "ipython",
    "version": 3
   },
   "file_extension": ".py",
   "mimetype": "text/x-python",
   "name": "python",
   "nbconvert_exporter": "python",
   "pygments_lexer": "ipython3",
   "version": "3.9.12"
  }
 },
 "nbformat": 4,
 "nbformat_minor": 5
}
