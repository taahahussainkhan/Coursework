{
 "cells": [
  {
   "cell_type": "code",
   "execution_count": 1,
   "id": "184ed91b",
   "metadata": {},
   "outputs": [],
   "source": [
    "import numpy as np"
   ]
  },
  {
   "cell_type": "code",
   "execution_count": 2,
   "id": "762bb31b",
   "metadata": {},
   "outputs": [
    {
     "data": {
      "text/plain": [
       "array([[0.72693302, 0.51237737, 0.53838226, 0.7355256 , 0.99444997],\n",
       "       [0.42104262, 0.41116589, 0.4328038 , 0.58035214, 0.04341136],\n",
       "       [0.03616049, 0.22006987, 0.15863897, 0.18002087, 0.34447543],\n",
       "       [0.81579915, 0.30003633, 0.69527514, 0.92839645, 0.79492916],\n",
       "       [0.03315272, 0.54039617, 0.08386075, 0.95923496, 0.53792291]])"
      ]
     },
     "execution_count": 2,
     "metadata": {},
     "output_type": "execute_result"
    }
   ],
   "source": [
    "random_arr = np.random.rand(5,5)\n",
    "random_arr"
   ]
  },
  {
   "cell_type": "code",
   "execution_count": 33,
   "id": "c61f13aa",
   "metadata": {},
   "outputs": [
    {
     "data": {
      "text/plain": [
       "0.036160488698877"
      ]
     },
     "execution_count": 33,
     "metadata": {},
     "output_type": "execute_result"
    }
   ],
   "source": [
    "np.partition(random_arr.flatten(), 1)[1]"
   ]
  },
  {
   "cell_type": "code",
   "execution_count": 6,
   "id": "ed778bef",
   "metadata": {},
   "outputs": [
    {
     "data": {
      "text/plain": [
       "0.9944499693212997"
      ]
     },
     "execution_count": 6,
     "metadata": {},
     "output_type": "execute_result"
    }
   ],
   "source": [
    "max_num = np.max(random_arr)\n",
    "max_num"
   ]
  },
  {
   "cell_type": "code",
   "execution_count": 11,
   "id": "9d92ab0a",
   "metadata": {},
   "outputs": [
    {
     "name": "stdout",
     "output_type": "stream",
     "text": [
      "Random array: \n",
      "[[0.72693302 0.51237737 0.53838226 0.7355256  0.99444997]\n",
      " [0.42104262 0.41116589 0.4328038  0.58035214 0.04341136]\n",
      " [0.03616049 0.22006987 0.15863897 0.18002087 0.34447543]\n",
      " [0.81579915 0.30003633 0.69527514 0.92839645 0.79492916]\n",
      " [0.03315272 0.54039617 0.08386075 0.95923496 0.53792291]]\n",
      "\n",
      "Second Minimum : 0.036160488698877\n",
      "\n",
      "Maximum Number : 0.9944499693212997\n"
     ]
    }
   ],
   "source": [
    "print('Random array: ')\n",
    "print(random_arr)\n",
    "print()\n",
    "print(f'Second Minimum : {second_min}')\n",
    "print()\n",
    "print(f'Maximum Number : {max_num}')"
   ]
  },
  {
   "cell_type": "markdown",
   "id": "61c02667",
   "metadata": {},
   "source": [
    "### Part (b) -> Normalization"
   ]
  },
  {
   "cell_type": "code",
   "execution_count": 17,
   "id": "9ee4bafd",
   "metadata": {},
   "outputs": [
    {
     "data": {
      "text/plain": [
       "array([[0.73099003, 0.51523695, 0.54138697, 0.73963057, 1.        ],\n",
       "       [0.42339246, 0.4134606 , 0.43521928, 0.58359109, 0.04365364],\n",
       "       [0.0363623 , 0.22129808, 0.15952434, 0.18102556, 0.34639795],\n",
       "       [0.82035213, 0.30171083, 0.69915547, 0.93357784, 0.79936567],\n",
       "       [0.03333775, 0.54341212, 0.08432877, 0.96458846, 0.54092506]])"
      ]
     },
     "execution_count": 17,
     "metadata": {},
     "output_type": "execute_result"
    }
   ],
   "source": [
    "normalized_arr = random_arr/max_num\n",
    "normalized_arr"
   ]
  },
  {
   "cell_type": "code",
   "execution_count": 19,
   "id": "81f37ebf",
   "metadata": {},
   "outputs": [
    {
     "data": {
      "text/plain": [
       "0.4809925359311201"
      ]
     },
     "execution_count": 19,
     "metadata": {},
     "output_type": "execute_result"
    }
   ],
   "source": [
    "mean_of_arr = np.mean(random_arr)\n",
    "mean_of_arr"
   ]
  },
  {
   "cell_type": "code",
   "execution_count": 22,
   "id": "053d6d04",
   "metadata": {},
   "outputs": [
    {
     "name": "stdout",
     "output_type": "stream",
     "text": [
      "Array after removing 0's: \n",
      "[[0.72693302 0.51237737 0.53838226 0.7355256  0.99444997]\n",
      " [0.42104262 0.41116589 0.4328038  0.58035214 0.04341136]\n",
      " [0.03616049 0.22006987 0.15863897 0.18002087 0.34447543]\n",
      " [0.81579915 0.30003633 0.69527514 0.92839645 0.79492916]\n",
      " [0.03315272 0.54039617 0.08386075 0.95923496 0.53792291]]\n"
     ]
    }
   ],
   "source": [
    "random_arr[random_arr==0] = mean_of_arr\n",
    "print(f'Array after removing 0\\'s: ')\n",
    "print(random_arr)"
   ]
  },
  {
   "cell_type": "markdown",
   "id": "d60b4b61",
   "metadata": {},
   "source": [
    "## Question 2"
   ]
  },
  {
   "cell_type": "code",
   "execution_count": null,
   "id": "485efa1a",
   "metadata": {},
   "outputs": [],
   "source": []
  }
 ],
 "metadata": {
  "kernelspec": {
   "display_name": "Python 3 (ipykernel)",
   "language": "python",
   "name": "python3"
  },
  "language_info": {
   "codemirror_mode": {
    "name": "ipython",
    "version": 3
   },
   "file_extension": ".py",
   "mimetype": "text/x-python",
   "name": "python",
   "nbconvert_exporter": "python",
   "pygments_lexer": "ipython3",
   "version": "3.9.12"
  }
 },
 "nbformat": 4,
 "nbformat_minor": 5
}
