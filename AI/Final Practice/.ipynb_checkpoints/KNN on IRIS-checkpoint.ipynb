{
 "cells": [
  {
   "cell_type": "code",
   "execution_count": 22,
   "id": "29e6fd7a",
   "metadata": {},
   "outputs": [],
   "source": [
    "import pandas as pd\n",
    "import numpy as np\n",
    "from sklearn import datasets\n",
    "from sklearn.model_selection import train_test_split\n",
    "from sklearn.preprocessing import StandardScaler\n",
    "from sklearn.model_selection import train_test_split\n",
    "from sklearn.preprocessing import StandardScaler\n",
    "#pip install --upgrade matplotlib seaborn\n"
   ]
  },
  {
   "cell_type": "code",
   "execution_count": 23,
   "id": "d4e92bfe",
   "metadata": {},
   "outputs": [
    {
     "data": {
      "text/html": [
       "<div>\n",
       "<style scoped>\n",
       "    .dataframe tbody tr th:only-of-type {\n",
       "        vertical-align: middle;\n",
       "    }\n",
       "\n",
       "    .dataframe tbody tr th {\n",
       "        vertical-align: top;\n",
       "    }\n",
       "\n",
       "    .dataframe thead th {\n",
       "        text-align: right;\n",
       "    }\n",
       "</style>\n",
       "<table border=\"1\" class=\"dataframe\">\n",
       "  <thead>\n",
       "    <tr style=\"text-align: right;\">\n",
       "      <th></th>\n",
       "      <th>sepal length (cm)</th>\n",
       "      <th>sepal width (cm)</th>\n",
       "      <th>petal length (cm)</th>\n",
       "      <th>petal width (cm)</th>\n",
       "      <th>target</th>\n",
       "    </tr>\n",
       "  </thead>\n",
       "  <tbody>\n",
       "    <tr>\n",
       "      <th>0</th>\n",
       "      <td>5.1</td>\n",
       "      <td>3.5</td>\n",
       "      <td>1.4</td>\n",
       "      <td>0.2</td>\n",
       "      <td>0</td>\n",
       "    </tr>\n",
       "    <tr>\n",
       "      <th>1</th>\n",
       "      <td>4.9</td>\n",
       "      <td>3.0</td>\n",
       "      <td>1.4</td>\n",
       "      <td>0.2</td>\n",
       "      <td>0</td>\n",
       "    </tr>\n",
       "    <tr>\n",
       "      <th>2</th>\n",
       "      <td>4.7</td>\n",
       "      <td>3.2</td>\n",
       "      <td>1.3</td>\n",
       "      <td>0.2</td>\n",
       "      <td>0</td>\n",
       "    </tr>\n",
       "    <tr>\n",
       "      <th>3</th>\n",
       "      <td>4.6</td>\n",
       "      <td>3.1</td>\n",
       "      <td>1.5</td>\n",
       "      <td>0.2</td>\n",
       "      <td>0</td>\n",
       "    </tr>\n",
       "    <tr>\n",
       "      <th>4</th>\n",
       "      <td>5.0</td>\n",
       "      <td>3.6</td>\n",
       "      <td>1.4</td>\n",
       "      <td>0.2</td>\n",
       "      <td>0</td>\n",
       "    </tr>\n",
       "  </tbody>\n",
       "</table>\n",
       "</div>"
      ],
      "text/plain": [
       "   sepal length (cm)  sepal width (cm)  petal length (cm)  petal width (cm)  \\\n",
       "0                5.1               3.5                1.4               0.2   \n",
       "1                4.9               3.0                1.4               0.2   \n",
       "2                4.7               3.2                1.3               0.2   \n",
       "3                4.6               3.1                1.5               0.2   \n",
       "4                5.0               3.6                1.4               0.2   \n",
       "\n",
       "   target  \n",
       "0       0  \n",
       "1       0  \n",
       "2       0  \n",
       "3       0  \n",
       "4       0  "
      ]
     },
     "execution_count": 23,
     "metadata": {},
     "output_type": "execute_result"
    }
   ],
   "source": [
    "iris = datasets.load_iris()\n",
    "df = pd.DataFrame(data=iris.data, columns=iris.feature_names)\n",
    "df['target'] = iris.target\n",
    "df.head()"
   ]
  },
  {
   "cell_type": "code",
   "execution_count": 24,
   "id": "3b701a96",
   "metadata": {},
   "outputs": [],
   "source": [
    "def dis(a, b, p=1):\n",
    "    l = len(a)\n",
    "    d = 0\n",
    "    for i in range(l):\n",
    "        d += abs(a[i] - b[i]) ** p\n",
    "    d = d ** (1/p)\n",
    "    return d"
   ]
  },
  {
   "cell_type": "code",
   "execution_count": 25,
   "id": "b4d48620",
   "metadata": {},
   "outputs": [
    {
     "data": {
      "text/html": [
       "<div>\n",
       "<style scoped>\n",
       "    .dataframe tbody tr th:only-of-type {\n",
       "        vertical-align: middle;\n",
       "    }\n",
       "\n",
       "    .dataframe tbody tr th {\n",
       "        vertical-align: top;\n",
       "    }\n",
       "\n",
       "    .dataframe thead th {\n",
       "        text-align: right;\n",
       "    }\n",
       "</style>\n",
       "<table border=\"1\" class=\"dataframe\">\n",
       "  <thead>\n",
       "    <tr style=\"text-align: right;\">\n",
       "      <th></th>\n",
       "      <th>dist</th>\n",
       "    </tr>\n",
       "  </thead>\n",
       "  <tbody>\n",
       "    <tr>\n",
       "      <th>0</th>\n",
       "      <td>2.7</td>\n",
       "    </tr>\n",
       "    <tr>\n",
       "      <th>1</th>\n",
       "      <td>2.0</td>\n",
       "    </tr>\n",
       "    <tr>\n",
       "      <th>2</th>\n",
       "      <td>2.3</td>\n",
       "    </tr>\n",
       "    <tr>\n",
       "      <th>3</th>\n",
       "      <td>2.1</td>\n",
       "    </tr>\n",
       "    <tr>\n",
       "      <th>4</th>\n",
       "      <td>2.7</td>\n",
       "    </tr>\n",
       "  </tbody>\n",
       "</table>\n",
       "</div>"
      ],
      "text/plain": [
       "   dist\n",
       "0   2.7\n",
       "1   2.0\n",
       "2   2.3\n",
       "3   2.1\n",
       "4   2.7"
      ]
     },
     "execution_count": 25,
     "metadata": {},
     "output_type": "execute_result"
    }
   ],
   "source": [
    "X = df.drop('target', axis=1)\n",
    "y = df.target\n",
    "test_pt = [4.8, 2.7, 2.5, 0.7]\n",
    "distances = []\n",
    "for i in X.index:\n",
    "    a = dis(test_pt, X.iloc[i])\n",
    "    distances.append(a)\n",
    "dists = pd.DataFrame(data=distances, index=X.index, columns=['dist'])\n",
    "dists.head()"
   ]
  },
  {
   "cell_type": "code",
   "execution_count": 26,
   "id": "e5e8eea2",
   "metadata": {},
   "outputs": [],
   "source": [
    "def knn_sort(k,dists): return dists.sort_values(by = 'dist')[:k]\n"
   ]
  },
  {
   "cell_type": "code",
   "execution_count": 27,
   "id": "85ee6bdd",
   "metadata": {},
   "outputs": [
    {
     "name": "stdout",
     "output_type": "stream",
     "text": [
      "    dist\n",
      "98   1.4\n",
      "57   1.5\n",
      "93   1.7\n",
      "24   1.8\n",
      "30   1.8\n",
      "1\n"
     ]
    }
   ],
   "source": [
    "sorted_dists = knn_sort(5, dists)\n",
    "print(sorted_dists)\n",
    "\n",
    "count_set = {}\n",
    "for i in sorted_dists.index:\n",
    "    if y[i] not in count_set:\n",
    "        count_set[y[i]] = 1\n",
    "    else:\n",
    "        count_set[y[i]] += 1\n",
    "\n",
    "print(max(count_set))"
   ]
  },
  {
   "cell_type": "code",
   "execution_count": 28,
   "id": "8b525b30",
   "metadata": {},
   "outputs": [],
   "source": [
    "X_train, X_test, y_train, y_test = train_test_split(X, y, test_size=0.25,random_state=1)\n",
    "scaler = StandardScaler()\n",
    "X_train = scaler.fit_transform(X_train)\n",
    "X_test = scaler.transform(X_test)"
   ]
  },
  {
   "cell_type": "code",
   "execution_count": 29,
   "id": "9506623a",
   "metadata": {},
   "outputs": [],
   "source": [
    "def KNN(X_train, X_test, y_train, y_test, k, p):\n",
    "    y_predict = []\n",
    "    for test_pt in X_test:\n",
    "        distances = []\n",
    "        for i in X_train:\n",
    "            a = dis(test_pt, i, p)\n",
    "            distances.append(a)\n",
    "        dists = pd.DataFrame(data=distances, index=y_train.index, columns=['dist'])\n",
    "        sorted_dists = knn_sort(k, dists)\n",
    "        #print(sorted_dists)\n",
    "        count_set = {}\n",
    "        for i in sorted_dists.index:\n",
    "            if y_train[i] not in count_set:\n",
    "                count_set[y_train[i]] = 1\n",
    "            else:\n",
    "                count_set[y_train[i]] += 1\n",
    "        y_predict.append(max(count_set))\n",
    "    y = y_test.tolist()\n",
    "    accr = 0\n",
    "    for i in range(len(y)):\n",
    "        if y[i] == y_predict[i]:\n",
    "            accr += 1\n",
    "    return accr/len(y)\n",
    "    #print('Accuracy',accr/len(y))\n"
   ]
  },
  {
   "cell_type": "code",
   "execution_count": 30,
   "id": "f63a51d8",
   "metadata": {},
   "outputs": [
    {
     "data": {
      "text/plain": [
       "0.868421052631579"
      ]
     },
     "execution_count": 30,
     "metadata": {},
     "output_type": "execute_result"
    }
   ],
   "source": [
    "KNN(X_train, X_test, y_train, y_test, 5,1)"
   ]
  },
  {
   "cell_type": "code",
   "execution_count": null,
   "id": "699848b3",
   "metadata": {},
   "outputs": [],
   "source": []
  }
 ],
 "metadata": {
  "kernelspec": {
   "display_name": "Python 3 (ipykernel)",
   "language": "python",
   "name": "python3"
  },
  "language_info": {
   "codemirror_mode": {
    "name": "ipython",
    "version": 3
   },
   "file_extension": ".py",
   "mimetype": "text/x-python",
   "name": "python",
   "nbconvert_exporter": "python",
   "pygments_lexer": "ipython3",
   "version": "3.11.2"
  }
 },
 "nbformat": 4,
 "nbformat_minor": 5
}
