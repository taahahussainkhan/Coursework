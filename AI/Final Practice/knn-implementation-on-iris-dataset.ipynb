{
 "cells": [
  {
   "cell_type": "markdown",
   "id": "e1452161",
   "metadata": {
    "papermill": {
     "duration": 0.010015,
     "end_time": "2023-04-10T19:26:27.703746",
     "exception": false,
     "start_time": "2023-04-10T19:26:27.693731",
     "status": "completed"
    },
    "tags": []
   },
   "source": [
    "# Background"
   ]
  },
  {
   "cell_type": "markdown",
   "id": "fd515cb3",
   "metadata": {
    "papermill": {
     "duration": 0.008316,
     "end_time": "2023-04-10T19:26:27.720789",
     "exception": false,
     "start_time": "2023-04-10T19:26:27.712473",
     "status": "completed"
    },
    "tags": []
   },
   "source": [
    "A supervised machine learning approach called k-Nearest Neighbors (KNN) can be applied \n",
    "to classification or regression problems. The approach does not make any assumptions about the underlying distributions of the data since KNN is non-parametric. As opposed to a parametric methodology like linear regression, which calls for us to identify a function that captures the connection between the dependent and independent variables, our method does not need th is. KNN has the benefit of being simple to comprehend. A query point (or test point) is categorized using the k labeled training points that are closest to it when utilized for classification.\n"
   ]
  },
  {
   "cell_type": "markdown",
   "id": "63e029db",
   "metadata": {
    "papermill": {
     "duration": 0.008327,
     "end_time": "2023-04-10T19:26:27.737598",
     "exception": false,
     "start_time": "2023-04-10T19:26:27.729271",
     "status": "completed"
    },
    "tags": []
   },
   "source": [
    "# Imports"
   ]
  },
  {
   "cell_type": "markdown",
   "id": "16fcdf38",
   "metadata": {
    "papermill": {
     "duration": 0.00938,
     "end_time": "2023-04-10T19:26:27.755394",
     "exception": false,
     "start_time": "2023-04-10T19:26:27.746014",
     "status": "completed"
    },
    "tags": []
   },
   "source": [
    "Few library needs to be imported, like pandas, numpy, matplotlib, and few of sklearn for \n",
    "dataset and split function.\n"
   ]
  },
  {
   "cell_type": "code",
   "execution_count": 1,
   "id": "563cf1be",
   "metadata": {
    "execution": {
     "iopub.execute_input": "2023-04-10T19:26:27.774812Z",
     "iopub.status.busy": "2023-04-10T19:26:27.773658Z",
     "iopub.status.idle": "2023-04-10T19:26:28.877865Z",
     "shell.execute_reply": "2023-04-10T19:26:28.876879Z"
    },
    "papermill": {
     "duration": 1.116446,
     "end_time": "2023-04-10T19:26:28.880264",
     "exception": false,
     "start_time": "2023-04-10T19:26:27.763818",
     "status": "completed"
    },
    "tags": []
   },
   "outputs": [],
   "source": [
    "import pandas as pd\n",
    "import warnings\n",
    "warnings.filterwarnings(\"ignore\")\n",
    "import seaborn as sns\n",
    "import numpy as np\n",
    "import matplotlib.pyplot as plt\n",
    "sns.set(style=\"white\", color_codes=True)\n",
    "from sklearn import datasets\n",
    "from sklearn.model_selection import train_test_split\n",
    "from sklearn.preprocessing import StandardScaler\n",
    "from sklearn.model_selection import train_test_split\n",
    "from sklearn.preprocessing import StandardScaler"
   ]
  },
  {
   "cell_type": "markdown",
   "id": "19d7ad69",
   "metadata": {
    "papermill": {
     "duration": 0.008355,
     "end_time": "2023-04-10T19:26:28.898311",
     "exception": false,
     "start_time": "2023-04-10T19:26:28.889956",
     "status": "completed"
    },
    "tags": []
   },
   "source": [
    "#  Loading Dataset"
   ]
  },
  {
   "cell_type": "code",
   "execution_count": 2,
   "id": "527e2d49",
   "metadata": {
    "execution": {
     "iopub.execute_input": "2023-04-10T19:26:28.916857Z",
     "iopub.status.busy": "2023-04-10T19:26:28.916519Z",
     "iopub.status.idle": "2023-04-10T19:26:28.947995Z",
     "shell.execute_reply": "2023-04-10T19:26:28.946943Z"
    },
    "papermill": {
     "duration": 0.043499,
     "end_time": "2023-04-10T19:26:28.950330",
     "exception": false,
     "start_time": "2023-04-10T19:26:28.906831",
     "status": "completed"
    },
    "tags": []
   },
   "outputs": [
    {
     "data": {
      "text/html": [
       "<div>\n",
       "<style scoped>\n",
       "    .dataframe tbody tr th:only-of-type {\n",
       "        vertical-align: middle;\n",
       "    }\n",
       "\n",
       "    .dataframe tbody tr th {\n",
       "        vertical-align: top;\n",
       "    }\n",
       "\n",
       "    .dataframe thead th {\n",
       "        text-align: right;\n",
       "    }\n",
       "</style>\n",
       "<table border=\"1\" class=\"dataframe\">\n",
       "  <thead>\n",
       "    <tr style=\"text-align: right;\">\n",
       "      <th></th>\n",
       "      <th>sepal length (cm)</th>\n",
       "      <th>sepal width (cm)</th>\n",
       "      <th>petal length (cm)</th>\n",
       "      <th>petal width (cm)</th>\n",
       "      <th>target</th>\n",
       "    </tr>\n",
       "  </thead>\n",
       "  <tbody>\n",
       "    <tr>\n",
       "      <th>0</th>\n",
       "      <td>5.1</td>\n",
       "      <td>3.5</td>\n",
       "      <td>1.4</td>\n",
       "      <td>0.2</td>\n",
       "      <td>0</td>\n",
       "    </tr>\n",
       "    <tr>\n",
       "      <th>1</th>\n",
       "      <td>4.9</td>\n",
       "      <td>3.0</td>\n",
       "      <td>1.4</td>\n",
       "      <td>0.2</td>\n",
       "      <td>0</td>\n",
       "    </tr>\n",
       "    <tr>\n",
       "      <th>2</th>\n",
       "      <td>4.7</td>\n",
       "      <td>3.2</td>\n",
       "      <td>1.3</td>\n",
       "      <td>0.2</td>\n",
       "      <td>0</td>\n",
       "    </tr>\n",
       "    <tr>\n",
       "      <th>3</th>\n",
       "      <td>4.6</td>\n",
       "      <td>3.1</td>\n",
       "      <td>1.5</td>\n",
       "      <td>0.2</td>\n",
       "      <td>0</td>\n",
       "    </tr>\n",
       "    <tr>\n",
       "      <th>4</th>\n",
       "      <td>5.0</td>\n",
       "      <td>3.6</td>\n",
       "      <td>1.4</td>\n",
       "      <td>0.2</td>\n",
       "      <td>0</td>\n",
       "    </tr>\n",
       "  </tbody>\n",
       "</table>\n",
       "</div>"
      ],
      "text/plain": [
       "   sepal length (cm)  sepal width (cm)  petal length (cm)  petal width (cm)  \\\n",
       "0                5.1               3.5                1.4               0.2   \n",
       "1                4.9               3.0                1.4               0.2   \n",
       "2                4.7               3.2                1.3               0.2   \n",
       "3                4.6               3.1                1.5               0.2   \n",
       "4                5.0               3.6                1.4               0.2   \n",
       "\n",
       "   target  \n",
       "0       0  \n",
       "1       0  \n",
       "2       0  \n",
       "3       0  \n",
       "4       0  "
      ]
     },
     "execution_count": 2,
     "metadata": {},
     "output_type": "execute_result"
    }
   ],
   "source": [
    "iris = datasets.load_iris()\n",
    "df = pd.DataFrame(data=iris.data, columns=iris.feature_names)\n",
    "df['target'] = iris.target\n",
    "df.head()"
   ]
  },
  {
   "cell_type": "markdown",
   "id": "7a36474b",
   "metadata": {
    "papermill": {
     "duration": 0.008583,
     "end_time": "2023-04-10T19:26:28.967917",
     "exception": false,
     "start_time": "2023-04-10T19:26:28.959334",
     "status": "completed"
    },
    "tags": []
   },
   "source": [
    "Fig 1.1:First 5 data of iris dataset\n",
    "\n",
    "This Iris dataset includes three iris species with 50 samples each as well as some properties \n",
    "about each flower. One flower species is linearly separable from the other two, but the other \n",
    "two are not linearly separable from each other.\n",
    "The columns in this dataset are:\n",
    "\n",
    " o Id\n",
    " \n",
    " o SepalLengthCm\n",
    " \n",
    " o SepalWidthCm\n",
    " \n",
    " o PetalLengthCm\n",
    " \n",
    " o PetalWidthCm\n",
    " \n",
    " o Species"
   ]
  },
  {
   "cell_type": "markdown",
   "id": "f5e212c7",
   "metadata": {
    "papermill": {
     "duration": 0.008506,
     "end_time": "2023-04-10T19:26:28.984993",
     "exception": false,
     "start_time": "2023-04-10T19:26:28.976487",
     "status": "completed"
    },
    "tags": []
   },
   "source": []
  },
  {
   "cell_type": "markdown",
   "id": "3a8c7c7e",
   "metadata": {
    "papermill": {
     "duration": 0.008486,
     "end_time": "2023-04-10T19:26:29.002309",
     "exception": false,
     "start_time": "2023-04-10T19:26:28.993823",
     "status": "completed"
    },
    "tags": []
   },
   "source": [
    "# Checking if the dataset is balanced or not"
   ]
  },
  {
   "cell_type": "code",
   "execution_count": 3,
   "id": "dd9807f3",
   "metadata": {
    "execution": {
     "iopub.execute_input": "2023-04-10T19:26:29.023214Z",
     "iopub.status.busy": "2023-04-10T19:26:29.021270Z",
     "iopub.status.idle": "2023-04-10T19:26:29.284007Z",
     "shell.execute_reply": "2023-04-10T19:26:29.283046Z"
    },
    "papermill": {
     "duration": 0.275077,
     "end_time": "2023-04-10T19:26:29.286260",
     "exception": false,
     "start_time": "2023-04-10T19:26:29.011183",
     "status": "completed"
    },
    "tags": []
   },
   "outputs": [
    {
     "data": {
      "text/plain": [
       "<AxesSubplot:ylabel='target'>"
      ]
     },
     "execution_count": 3,
     "metadata": {},
     "output_type": "execute_result"
    },
    {
     "data": {
      "image/png": "[encoded data removed]",
      "text/plain": [
       "<Figure size 640x480 with 1 Axes>"
      ]
     },
     "metadata": {},
     "output_type": "display_data"
    }
   ],
   "source": [
    "df.groupby('target').size().plot(kind='barh')"
   ]
  },
  {
   "cell_type": "markdown",
   "id": "f92ddf82",
   "metadata": {
    "papermill": {
     "duration": 0.009088,
     "end_time": "2023-04-10T19:26:29.304665",
     "exception": false,
     "start_time": "2023-04-10T19:26:29.295577",
     "status": "completed"
    },
    "tags": []
   },
   "source": [
    "Fig 1.2: frequency of each target\n",
    "\n",
    "Now from this graph we can see in this dataset three of the class have same amount of data. \n",
    "So, it’s balanced dataset.\n",
    "Now we need a distance function. In KNN we find the distance between the test data with \n",
    "all our dataset. We can use eucledean or manhattan distance. Here a generalized function is \n",
    "used, with using a parameter p, when p = 1, it’s manhattan distance and when p = 2, it’s \n",
    "eulclidean distance. \n",
    "\n",
    "\n",
    "\n",
    "                             "
   ]
  },
  {
   "cell_type": "markdown",
   "id": "8dcf208b",
   "metadata": {
    "papermill": {
     "duration": 0.008705,
     "end_time": "2023-04-10T19:26:29.322292",
     "exception": false,
     "start_time": "2023-04-10T19:26:29.313587",
     "status": "completed"
    },
    "tags": []
   },
   "source": [
    "# Euclidean distance function"
   ]
  },
  {
   "cell_type": "code",
   "execution_count": 4,
   "id": "aa1fe21a",
   "metadata": {
    "execution": {
     "iopub.execute_input": "2023-04-10T19:26:29.342994Z",
     "iopub.status.busy": "2023-04-10T19:26:29.341872Z",
     "iopub.status.idle": "2023-04-10T19:26:29.347595Z",
     "shell.execute_reply": "2023-04-10T19:26:29.346940Z"
    },
    "papermill": {
     "duration": 0.018116,
     "end_time": "2023-04-10T19:26:29.349508",
     "exception": false,
     "start_time": "2023-04-10T19:26:29.331392",
     "status": "completed"
    },
    "tags": []
   },
   "outputs": [],
   "source": [
    "def dis(a, b, p=1):\n",
    "    l = len(a)\n",
    "    d = 0\n",
    "    for i in range(l):\n",
    "        d += abs(a[i] - b[i]) ** p\n",
    "    d = d ** (1/p)\n",
    "    return d"
   ]
  },
  {
   "cell_type": "markdown",
   "id": "dc07ade2",
   "metadata": {
    "papermill": {
     "duration": 0.008777,
     "end_time": "2023-04-10T19:26:29.367167",
     "exception": false,
     "start_time": "2023-04-10T19:26:29.358390",
     "status": "completed"
    },
    "tags": []
   },
   "source": [
    "Now one test point will be executed before splitting data for train and test, it’s to check all \n",
    "implementation, that have been so far. Here the test point that used is test_pt = [4.8, 2.7, 2.5, \n",
    "0.7]. Here after taking the test point the code will measure distance from this data point with \n",
    "all those 150 data points. Then it’ll convert that list to a python DataFrame for further \n",
    "convenience"
   ]
  },
  {
   "cell_type": "code",
   "execution_count": 5,
   "id": "9476996b",
   "metadata": {
    "execution": {
     "iopub.execute_input": "2023-04-10T19:26:29.386548Z",
     "iopub.status.busy": "2023-04-10T19:26:29.386204Z",
     "iopub.status.idle": "2023-04-10T19:26:29.410838Z",
     "shell.execute_reply": "2023-04-10T19:26:29.409716Z"
    },
    "papermill": {
     "duration": 0.036946,
     "end_time": "2023-04-10T19:26:29.413046",
     "exception": false,
     "start_time": "2023-04-10T19:26:29.376100",
     "status": "completed"
    },
    "tags": []
   },
   "outputs": [
    {
     "data": {
      "text/html": [
       "<div>\n",
       "<style scoped>\n",
       "    .dataframe tbody tr th:only-of-type {\n",
       "        vertical-align: middle;\n",
       "    }\n",
       "\n",
       "    .dataframe tbody tr th {\n",
       "        vertical-align: top;\n",
       "    }\n",
       "\n",
       "    .dataframe thead th {\n",
       "        text-align: right;\n",
       "    }\n",
       "</style>\n",
       "<table border=\"1\" class=\"dataframe\">\n",
       "  <thead>\n",
       "    <tr style=\"text-align: right;\">\n",
       "      <th></th>\n",
       "      <th>dist</th>\n",
       "    </tr>\n",
       "  </thead>\n",
       "  <tbody>\n",
       "    <tr>\n",
       "      <th>0</th>\n",
       "      <td>2.7</td>\n",
       "    </tr>\n",
       "    <tr>\n",
       "      <th>1</th>\n",
       "      <td>2.0</td>\n",
       "    </tr>\n",
       "    <tr>\n",
       "      <th>2</th>\n",
       "      <td>2.3</td>\n",
       "    </tr>\n",
       "    <tr>\n",
       "      <th>3</th>\n",
       "      <td>2.1</td>\n",
       "    </tr>\n",
       "    <tr>\n",
       "      <th>4</th>\n",
       "      <td>2.7</td>\n",
       "    </tr>\n",
       "  </tbody>\n",
       "</table>\n",
       "</div>"
      ],
      "text/plain": [
       "   dist\n",
       "0   2.7\n",
       "1   2.0\n",
       "2   2.3\n",
       "3   2.1\n",
       "4   2.7"
      ]
     },
     "execution_count": 5,
     "metadata": {},
     "output_type": "execute_result"
    }
   ],
   "source": [
    "X = df.drop('target', axis=1)\n",
    "y = df.target\n",
    "test_pt = [4.8, 2.7, 2.5, 0.7]\n",
    "distances = []\n",
    "for i in X.index:\n",
    "    a = dis(test_pt, X.iloc[i])\n",
    "    distances.append(a)\n",
    "dists = pd.DataFrame(data=distances, index=X.index, columns=['dist'])\n",
    "dists.head()"
   ]
  },
  {
   "cell_type": "markdown",
   "id": "4b087dfa",
   "metadata": {
    "papermill": {
     "duration": 0.008968,
     "end_time": "2023-04-10T19:26:29.431807",
     "exception": false,
     "start_time": "2023-04-10T19:26:29.422839",
     "status": "completed"
    },
    "tags": []
   },
   "source": [
    "Fig 1.3: Distance DataFrame"
   ]
  },
  {
   "cell_type": "markdown",
   "id": "01a8b2a9",
   "metadata": {
    "papermill": {
     "duration": 0.008903,
     "end_time": "2023-04-10T19:26:29.449781",
     "exception": false,
     "start_time": "2023-04-10T19:26:29.440878",
     "status": "completed"
    },
    "tags": []
   },
   "source": [
    "# Distance DataFrame is sorted to measure which class the nearest"
   ]
  },
  {
   "cell_type": "code",
   "execution_count": 6,
   "id": "8cad79ad",
   "metadata": {
    "execution": {
     "iopub.execute_input": "2023-04-10T19:26:29.469738Z",
     "iopub.status.busy": "2023-04-10T19:26:29.469084Z",
     "iopub.status.idle": "2023-04-10T19:26:29.473962Z",
     "shell.execute_reply": "2023-04-10T19:26:29.472950Z"
    },
    "papermill": {
     "duration": 0.017209,
     "end_time": "2023-04-10T19:26:29.476022",
     "exception": false,
     "start_time": "2023-04-10T19:26:29.458813",
     "status": "completed"
    },
    "tags": []
   },
   "outputs": [],
   "source": [
    "def knn_sort(k,dists): return dists.sort_values(by = 'dist')[:k]"
   ]
  },
  {
   "cell_type": "markdown",
   "id": "98e90890",
   "metadata": {
    "papermill": {
     "duration": 0.009012,
     "end_time": "2023-04-10T19:26:29.494016",
     "exception": false,
     "start_time": "2023-04-10T19:26:29.485004",
     "status": "completed"
    },
    "tags": []
   },
   "source": [
    "# Value of k is determined. \n",
    "Here k is 5. And taking top k distance the majority of \n",
    "the class will be measure. Here a dictionary named count_set is used to keep track of the \n",
    "voting."
   ]
  },
  {
   "cell_type": "code",
   "execution_count": 7,
   "id": "8a892945",
   "metadata": {
    "execution": {
     "iopub.execute_input": "2023-04-10T19:26:29.514445Z",
     "iopub.status.busy": "2023-04-10T19:26:29.513650Z",
     "iopub.status.idle": "2023-04-10T19:26:29.522769Z",
     "shell.execute_reply": "2023-04-10T19:26:29.521753Z"
    },
    "papermill": {
     "duration": 0.022563,
     "end_time": "2023-04-10T19:26:29.525814",
     "exception": false,
     "start_time": "2023-04-10T19:26:29.503251",
     "status": "completed"
    },
    "tags": []
   },
   "outputs": [
    {
     "name": "stdout",
     "output_type": "stream",
     "text": [
      "    dist\n",
      "98   1.4\n",
      "57   1.5\n",
      "93   1.7\n",
      "24   1.8\n",
      "30   1.8\n",
      "1\n"
     ]
    }
   ],
   "source": [
    "sorted_dists = knn_sort(5, dists)\n",
    "print(sorted_dists)\n",
    "\n",
    "count_set = {}\n",
    "for i in sorted_dists.index:\n",
    "    if y[i] not in count_set:\n",
    "        count_set[y[i]] = 1\n",
    "    else:\n",
    "        count_set[y[i]] += 1\n",
    "\n",
    "print(max(count_set))"
   ]
  },
  {
   "cell_type": "markdown",
   "id": "3eda86d8",
   "metadata": {
    "papermill": {
     "duration": 0.009942,
     "end_time": "2023-04-10T19:26:29.546270",
     "exception": false,
     "start_time": "2023-04-10T19:26:29.536328",
     "status": "completed"
    },
    "tags": []
   },
   "source": [
    "Fig 1.4: Top k Distance and predicted class for test_pt\n"
   ]
  },
  {
   "cell_type": "markdown",
   "id": "990dc841",
   "metadata": {
    "papermill": {
     "duration": 0.009717,
     "end_time": "2023-04-10T19:26:29.565881",
     "exception": false,
     "start_time": "2023-04-10T19:26:29.556164",
     "status": "completed"
    },
    "tags": []
   },
   "source": [
    "Now this code determined the accurate prediction for that data point and now all the data \n",
    "can be splitted for training and testing. Hrere two library function train_test_split and \n",
    "StandardScaler are used from sklearn for splitting and feature scalling."
   ]
  },
  {
   "cell_type": "markdown",
   "id": "747654b6",
   "metadata": {
    "papermill": {
     "duration": 0.010183,
     "end_time": "2023-04-10T19:26:29.586371",
     "exception": false,
     "start_time": "2023-04-10T19:26:29.576188",
     "status": "completed"
    },
    "tags": []
   },
   "source": [
    "# Split the data - 75% train, 25% test"
   ]
  },
  {
   "cell_type": "code",
   "execution_count": 8,
   "id": "620d7f5e",
   "metadata": {
    "execution": {
     "iopub.execute_input": "2023-04-10T19:26:29.608912Z",
     "iopub.status.busy": "2023-04-10T19:26:29.607732Z",
     "iopub.status.idle": "2023-04-10T19:26:29.621923Z",
     "shell.execute_reply": "2023-04-10T19:26:29.620318Z"
    },
    "papermill": {
     "duration": 0.02754,
     "end_time": "2023-04-10T19:26:29.624335",
     "exception": false,
     "start_time": "2023-04-10T19:26:29.596795",
     "status": "completed"
    },
    "tags": []
   },
   "outputs": [],
   "source": [
    "X_train, X_test, y_train, y_test = train_test_split(X, y, test_size=0.25,random_state=1)\n",
    "scaler = StandardScaler()\n",
    "X_train = scaler.fit_transform(X_train)\n",
    "X_test = scaler.transform(X_test)\n"
   ]
  },
  {
   "cell_type": "markdown",
   "id": "55ee2a1a",
   "metadata": {
    "papermill": {
     "duration": 0.009503,
     "end_time": "2023-04-10T19:26:29.644362",
     "exception": false,
     "start_time": "2023-04-10T19:26:29.634859",
     "status": "completed"
    },
    "tags": []
   },
   "source": [
    "# Training and predicting the test set and checking accuracy."
   ]
  },
  {
   "cell_type": "code",
   "execution_count": 9,
   "id": "1ed47de9",
   "metadata": {
    "execution": {
     "iopub.execute_input": "2023-04-10T19:26:29.664916Z",
     "iopub.status.busy": "2023-04-10T19:26:29.664252Z",
     "iopub.status.idle": "2023-04-10T19:26:29.672210Z",
     "shell.execute_reply": "2023-04-10T19:26:29.671087Z"
    },
    "papermill": {
     "duration": 0.020733,
     "end_time": "2023-04-10T19:26:29.674364",
     "exception": false,
     "start_time": "2023-04-10T19:26:29.653631",
     "status": "completed"
    },
    "tags": []
   },
   "outputs": [],
   "source": [
    "def KNN(X_train, X_test, y_train, y_test, k, p):\n",
    "    y_predict = []\n",
    "    for test_pt in X_test:\n",
    "        distances = []\n",
    "        for i in X_train:\n",
    "            a = dis(test_pt, i, p)\n",
    "            distances.append(a)\n",
    "        dists = pd.DataFrame(data=distances, index=y_train.index, columns=['dist'])\n",
    "        sorted_dists = knn_sort(k, dists)\n",
    "        #print(sorted_dists)\n",
    "        count_set = {}\n",
    "        for i in sorted_dists.index:\n",
    "            if y_train[i] not in count_set:\n",
    "                count_set[y_train[i]] = 1\n",
    "            else:\n",
    "                count_set[y_train[i]] += 1\n",
    "        y_predict.append(max(count_set))\n",
    "    y = y_test.tolist()\n",
    "    accr = 0\n",
    "    for i in range(len(y)):\n",
    "        if y[i] == y_predict[i]:\n",
    "            accr += 1\n",
    "    return accr/len(y)\n",
    "    #print('Accuracy',accr/len(y))\n"
   ]
  },
  {
   "cell_type": "markdown",
   "id": "73c902a3",
   "metadata": {
    "papermill": {
     "duration": 0.008874,
     "end_time": "2023-04-10T19:26:29.692377",
     "exception": false,
     "start_time": "2023-04-10T19:26:29.683503",
     "status": "completed"
    },
    "tags": []
   },
   "source": [
    "# Calling the function"
   ]
  },
  {
   "cell_type": "code",
   "execution_count": 10,
   "id": "c34bdbea",
   "metadata": {
    "execution": {
     "iopub.execute_input": "2023-04-10T19:26:29.712019Z",
     "iopub.status.busy": "2023-04-10T19:26:29.711688Z",
     "iopub.status.idle": "2023-04-10T19:26:29.754668Z",
     "shell.execute_reply": "2023-04-10T19:26:29.753555Z"
    },
    "papermill": {
     "duration": 0.055582,
     "end_time": "2023-04-10T19:26:29.757122",
     "exception": false,
     "start_time": "2023-04-10T19:26:29.701540",
     "status": "completed"
    },
    "tags": []
   },
   "outputs": [
    {
     "data": {
      "text/plain": [
       "0.868421052631579"
      ]
     },
     "execution_count": 10,
     "metadata": {},
     "output_type": "execute_result"
    }
   ],
   "source": [
    "KNN(X_train, X_test, y_train, y_test, 5,1)"
   ]
  },
  {
   "cell_type": "markdown",
   "id": "594c4765",
   "metadata": {
    "papermill": {
     "duration": 0.009066,
     "end_time": "2023-04-10T19:26:29.775585",
     "exception": false,
     "start_time": "2023-04-10T19:26:29.766519",
     "status": "completed"
    },
    "tags": []
   },
   "source": [
    "Fig 1.5: Accuracy when k = 5\n",
    "\n",
    "Now the following code is to see how the model accuracy varies with respect to k value. A \n",
    "simple loop is used to call KNN few times, and the list is represented in a graph. And it \n",
    "also "
   ]
  },
  {
   "cell_type": "markdown",
   "id": "c375d56a",
   "metadata": {
    "papermill": {
     "duration": 0.009263,
     "end_time": "2023-04-10T19:26:29.794023",
     "exception": false,
     "start_time": "2023-04-10T19:26:29.784760",
     "status": "completed"
    },
    "tags": []
   },
   "source": [
    "# State the best accuracy "
   ]
  },
  {
   "cell_type": "code",
   "execution_count": 11,
   "id": "b201d9fa",
   "metadata": {
    "execution": {
     "iopub.execute_input": "2023-04-10T19:26:29.815038Z",
     "iopub.status.busy": "2023-04-10T19:26:29.813944Z",
     "iopub.status.idle": "2023-04-10T19:26:35.030924Z",
     "shell.execute_reply": "2023-04-10T19:26:35.029937Z"
    },
    "papermill": {
     "duration": 5.229919,
     "end_time": "2023-04-10T19:26:35.033350",
     "exception": false,
     "start_time": "2023-04-10T19:26:29.803431",
     "status": "completed"
    },
    "tags": []
   },
   "outputs": [
    {
     "name": "stdout",
     "output_type": "stream",
     "text": [
      "0.9736842105263158\n"
     ]
    },
    {
     "data": {
      "text/plain": [
       "Text(0, 0.5, 'Accuracy (%)')"
      ]
     },
     "execution_count": 11,
     "metadata": {},
     "output_type": "execute_result"
    },
    {
     "data": {
      "image/png": "[encoded data removed]",
      "text/plain": [
       "<Figure size 800x600 with 1 Axes>"
      ]
     },
     "metadata": {},
     "output_type": "display_data"
    }
   ],
   "source": [
    "accuracies = []\n",
    "for i in range(1,100):\n",
    "    accuracies.append(KNN(X_train, X_test, y_train, y_test, i,1))\n",
    "\n",
    "print(max(accuracies))\n",
    "\n",
    "fig, ax = plt.subplots(figsize=(8,6))\n",
    "ax.plot(range(1,100), accuracies)\n",
    "ax.set_xlabel('# of Nearest Neighbors (k)')\n",
    "ax.set_ylabel('Accuracy (%)')\n"
   ]
  },
  {
   "cell_type": "markdown",
   "id": "48a78a5b",
   "metadata": {
    "papermill": {
     "duration": 0.00981,
     "end_time": "2023-04-10T19:26:35.053312",
     "exception": false,
     "start_time": "2023-04-10T19:26:35.043502",
     "status": "completed"
    },
    "tags": []
   },
   "source": [
    "Fig 1.6: The best accuracy when k = 3\n",
    "\n",
    "Fig 1.7: Exploring the effect of varying k\n",
    "\n",
    "Here from the graph we can see after arriving the peak accuracy at k = 3, the model starts\n",
    "performing poor gradually, and after k>20, the accuracy start to drop off.\n"
   ]
  },
  {
   "cell_type": "markdown",
   "id": "0511ad17",
   "metadata": {
    "papermill": {
     "duration": 0.009633,
     "end_time": "2023-04-10T19:26:35.072873",
     "exception": false,
     "start_time": "2023-04-10T19:26:35.063240",
     "status": "completed"
    },
    "tags": []
   },
   "source": [
    "# Ratio of the Train and Test samples:"
   ]
  },
  {
   "cell_type": "markdown",
   "id": "79515a3e",
   "metadata": {
    "papermill": {
     "duration": 0.00959,
     "end_time": "2023-04-10T19:26:35.092217",
     "exception": false,
     "start_time": "2023-04-10T19:26:35.082627",
     "status": "completed"
    },
    "tags": []
   },
   "source": [
    "There are 112 train data sample and 38 test data samples are being considered for this \n",
    "problem. So, the ratio would be –\n",
    "\n",
    "Train data = 112*100/ (113+37) % = 75%\n",
    "\n",
    "Test data = 38*100/(113+37)% = 25%"
   ]
  },
  {
   "cell_type": "markdown",
   "id": "5b7cec1e",
   "metadata": {
    "papermill": {
     "duration": 0.009547,
     "end_time": "2023-04-10T19:26:35.111534",
     "exception": false,
     "start_time": "2023-04-10T19:26:35.101987",
     "status": "completed"
    },
    "tags": []
   },
   "source": [
    "# Performance Analysis:\n"
   ]
  },
  {
   "cell_type": "markdown",
   "id": "abb32048",
   "metadata": {
    "papermill": {
     "duration": 0.010236,
     "end_time": "2023-04-10T19:26:35.131552",
     "exception": false,
     "start_time": "2023-04-10T19:26:35.121316",
     "status": "completed"
    },
    "tags": []
   },
   "source": [
    "The code above implements the k-Nearest Neighbors algorithm to classify the iris dataset. \n",
    "Here is a summary of the performance analysis:\n",
    "1. The code first loads the iris dataset and converts it into a pandas DataFrame. It then visualizes \n",
    "the distribution of samples across the three classes using a bar chart.\n",
    "2. A custom function dis() is defined to calculate the distance between two data points. The \n",
    "function uses the Manhattan distance metric, which is specified using the p argument.\n",
    "3. A test point is chosen and the distances between the test point and all other data points are \n",
    "calculated using the dis() function. The distances are stored in a pandas DataFrame.\n",
    "4. A function knn_sort() is defined to sort the distances and return the k-nearest neighbors. \n",
    "The function is used to find the 5-nearest neighbors of the test point.\n",
    "5. A dictionary count_set is used to count the number of samples from each class in the 5-\n",
    "nearest neighbors. The class with the highest count is chosen as the predicted class for the \n",
    "test point.\n",
    "6. The code then splits the iris dataset into a training set and a testing set, with 75% of the data \n",
    "used for training and 25% used for testing. The data is also standardized using the \n",
    "StandardScaler() function from scikit-learn.\n",
    "7. The k-Nearest Neighbors algorithm is then applied to the testing set using a for loop. For \n",
    "each test point, the distances to all training points are calculated and the k-nearest neighbors \n",
    "are determined using the knn_sort() function. The class with the highest count is chosen as \n",
    "the predicted class.\n",
    "8. The accuracy of the algorithm is then calculated by comparing the predicted classes to the \n",
    "true classes in the testing set.\n",
    "9. A function KNN() is defined to allow for different values of k and p (distance metric) to be \n",
    "used. The function returns the accuracy of the algorithm.\n",
    "10. The KNN() function is used to calculate the accuracy of the algorithm for different values \n",
    "of k and p. The results are plotted using matplotlib to show how the accuracy changes with \n",
    "k. Two plots are created, one for the Manhattan distance metric (p=1) and one for the \n",
    "Euclidean distance metric (p=2).\n",
    "In summary, the code implements the k-Nearest Neighbors algorithm to classify the iris \n",
    "dataset and evaluates its performance using accuracy. The performance is analyzed by \n",
    "testing the algorithm for different values of k and p, and plotting the results."
   ]
  },
  {
   "cell_type": "markdown",
   "id": "719bc944",
   "metadata": {
    "papermill": {
     "duration": 0.009644,
     "end_time": "2023-04-10T19:26:35.151002",
     "exception": false,
     "start_time": "2023-04-10T19:26:35.141358",
     "status": "completed"
    },
    "tags": []
   },
   "source": [
    "# Data Visualization"
   ]
  },
  {
   "cell_type": "markdown",
   "id": "ec2ebe66",
   "metadata": {
    "papermill": {
     "duration": 0.009571,
     "end_time": "2023-04-10T19:26:35.170344",
     "exception": false,
     "start_time": "2023-04-10T19:26:35.160773",
     "status": "completed"
    },
    "tags": []
   },
   "source": [
    "This code is using the Pandas DataFrame plot() method to create a scatter plot of two variables in a DataFrame.\n",
    "\n",
    "df.plot() is a method provided by the Pandas library that allows for quick visualization of data stored in a DataFrame. In this case, kind=\"scatter\" specifies that we want to create a scatter plot, and x=\"sepal length (cm)\" and y=\"sepal width (cm)\" specify the names of the columns in the DataFrame that we want to plot on the x and y axes, respectively."
   ]
  },
  {
   "cell_type": "code",
   "execution_count": 12,
   "id": "8cd1b777",
   "metadata": {
    "execution": {
     "iopub.execute_input": "2023-04-10T19:26:35.191530Z",
     "iopub.status.busy": "2023-04-10T19:26:35.191162Z",
     "iopub.status.idle": "2023-04-10T19:26:35.468748Z",
     "shell.execute_reply": "2023-04-10T19:26:35.467808Z"
    },
    "papermill": {
     "duration": 0.290856,
     "end_time": "2023-04-10T19:26:35.471002",
     "exception": false,
     "start_time": "2023-04-10T19:26:35.180146",
     "status": "completed"
    },
    "tags": []
   },
   "outputs": [
    {
     "data": {
      "text/plain": [
       "<AxesSubplot:xlabel='sepal length (cm)', ylabel='sepal width (cm)'>"
      ]
     },
     "execution_count": 12,
     "metadata": {},
     "output_type": "execute_result"
    },
    {
     "data": {
      "image/png": "[encoded data removed]",
      "text/plain": [
       "<Figure size 640x480 with 1 Axes>"
      ]
     },
     "metadata": {},
     "output_type": "display_data"
    }
   ],
   "source": [
    "df.plot(kind=\"scatter\", x=\"sepal length (cm)\", y=\"sepal width (cm)\")"
   ]
  },
  {
   "cell_type": "markdown",
   "id": "1cfb9922",
   "metadata": {
    "papermill": {
     "duration": 0.010095,
     "end_time": "2023-04-10T19:26:35.491722",
     "exception": false,
     "start_time": "2023-04-10T19:26:35.481627",
     "status": "completed"
    },
    "tags": []
   },
   "source": [
    "This code uses Seaborn library to create a joint plot of two variables in a Pandas DataFrame. The x and y parameters specify the names of the columns in the DataFrame that we want to plot on the x and y axes, respectively. The data parameter specifies the name of the DataFrame containing the data to be plotted, and size specifies the size of the resulting plot. The joint plot displays a scatter plot of the relationship between the two variables, along with the distributions of each variable along the x and y axes using a histogram. This can help identify patterns or relationships between variables in the data."
   ]
  },
  {
   "cell_type": "code",
   "execution_count": 13,
   "id": "3468bd87",
   "metadata": {
    "execution": {
     "iopub.execute_input": "2023-04-10T19:26:35.513858Z",
     "iopub.status.busy": "2023-04-10T19:26:35.513506Z",
     "iopub.status.idle": "2023-04-10T19:26:36.178039Z",
     "shell.execute_reply": "2023-04-10T19:26:36.176979Z"
    },
    "papermill": {
     "duration": 0.678386,
     "end_time": "2023-04-10T19:26:36.180414",
     "exception": false,
     "start_time": "2023-04-10T19:26:35.502028",
     "status": "completed"
    },
    "tags": []
   },
   "outputs": [
    {
     "data": {
      "text/plain": [
       "<seaborn.axisgrid.JointGrid at 0x7d2ea244f3d0>"
      ]
     },
     "execution_count": 13,
     "metadata": {},
     "output_type": "execute_result"
    },
    {
     "data": {
      "image/png": "[encoded data removed]",
      "text/plain": [
       "<Figure size 600x600 with 3 Axes>"
      ]
     },
     "metadata": {},
     "output_type": "display_data"
    }
   ],
   "source": [
    "sns.jointplot(x=\"sepal length (cm)\", y=\"sepal width (cm)\", data=df, size=5)"
   ]
  },
  {
   "cell_type": "code",
   "execution_count": 14,
   "id": "0ae64805",
   "metadata": {
    "execution": {
     "iopub.execute_input": "2023-04-10T19:26:36.205510Z",
     "iopub.status.busy": "2023-04-10T19:26:36.204861Z",
     "iopub.status.idle": "2023-04-10T19:26:36.451925Z",
     "shell.execute_reply": "2023-04-10T19:26:36.450865Z"
    },
    "papermill": {
     "duration": 0.261839,
     "end_time": "2023-04-10T19:26:36.454130",
     "exception": false,
     "start_time": "2023-04-10T19:26:36.192291",
     "status": "completed"
    },
    "tags": []
   },
   "outputs": [
    {
     "data": {
      "text/plain": [
       "<AxesSubplot:xlabel='target', ylabel='petal length (cm)'>"
      ]
     },
     "execution_count": 14,
     "metadata": {},
     "output_type": "execute_result"
    },
    {
     "data": {
      "image/png": "[encoded data removed]",
      "text/plain": [
       "<Figure size 640x480 with 1 Axes>"
      ]
     },
     "metadata": {},
     "output_type": "display_data"
    }
   ],
   "source": [
    "sns.boxplot(x=\"target\", y=\"petal length (cm)\", data=df)"
   ]
  },
  {
   "cell_type": "markdown",
   "id": "8018cb38",
   "metadata": {
    "papermill": {
     "duration": 0.011627,
     "end_time": "2023-04-10T19:26:36.477263",
     "exception": false,
     "start_time": "2023-04-10T19:26:36.465636",
     "status": "completed"
    },
    "tags": []
   },
   "source": [
    "This code creates a box plot using Seaborn library to visualize the distribution of a numerical variable (petal length (cm)) for different levels of a categorical variable (target). The resulting plot shows a box for each level of the categorical variable, with whiskers indicating the range of the data and outliers shown as individual points."
   ]
  },
  {
   "cell_type": "code",
   "execution_count": 15,
   "id": "bf1c8479",
   "metadata": {
    "execution": {
     "iopub.execute_input": "2023-04-10T19:26:36.502424Z",
     "iopub.status.busy": "2023-04-10T19:26:36.501331Z",
     "iopub.status.idle": "2023-04-10T19:26:36.788169Z",
     "shell.execute_reply": "2023-04-10T19:26:36.787143Z"
    },
    "papermill": {
     "duration": 0.301923,
     "end_time": "2023-04-10T19:26:36.790638",
     "exception": false,
     "start_time": "2023-04-10T19:26:36.488715",
     "status": "completed"
    },
    "tags": []
   },
   "outputs": [
    {
     "data": {
      "image/png": "[encoded data removed]",
      "text/plain": [
       "<Figure size 640x480 with 1 Axes>"
      ]
     },
     "metadata": {},
     "output_type": "display_data"
    }
   ],
   "source": [
    "cx = sns.boxplot(x=\"target\", y=\"petal length (cm)\", data= df )\n",
    "cx = sns.stripplot(x=\"target\", y=\"petal length (cm)\", data=df, jitter=True, edgecolor=\"gray\")"
   ]
  },
  {
   "cell_type": "markdown",
   "id": "334924ee",
   "metadata": {
    "papermill": {
     "duration": 0.011473,
     "end_time": "2023-04-10T19:26:36.814196",
     "exception": false,
     "start_time": "2023-04-10T19:26:36.802723",
     "status": "completed"
    },
    "tags": []
   },
   "source": [
    "This code creates a combined box plot and strip plot using Seaborn library to visualize the distribution of a numerical variable (petal length (cm)) for different levels of a categorical variable (target).\n",
    "\n",
    "The first line sns.boxplot() creates a box plot, where x and y specify the names of the columns in the DataFrame df that we want to plot on the x and y axes, respectively.\n",
    "\n",
    "The second line sns.stripplot() creates a strip plot, where x and y also specify the names of the columns in the DataFrame df that we want to plot on the x and y axes, respectively. jitter=True adds a small amount of random noise to the data points to better visualize overlapping points. edgecolor=\"gray\" sets the color of the marker edge to gray.\n",
    "\n",
    "Together, these two plots provide a more detailed view of the distribution of the data, showing the individual data points as well as the overall distribution with the box plot."
   ]
  },
  {
   "cell_type": "code",
   "execution_count": 16,
   "id": "ef7421b4",
   "metadata": {
    "execution": {
     "iopub.execute_input": "2023-04-10T19:26:36.838750Z",
     "iopub.status.busy": "2023-04-10T19:26:36.838409Z",
     "iopub.status.idle": "2023-04-10T19:26:37.214868Z",
     "shell.execute_reply": "2023-04-10T19:26:37.213839Z"
    },
    "papermill": {
     "duration": 0.391499,
     "end_time": "2023-04-10T19:26:37.217223",
     "exception": false,
     "start_time": "2023-04-10T19:26:36.825724",
     "status": "completed"
    },
    "tags": []
   },
   "outputs": [
    {
     "data": {
      "text/plain": [
       "<AxesSubplot:xlabel='target', ylabel='petal length (cm)'>"
      ]
     },
     "execution_count": 16,
     "metadata": {},
     "output_type": "execute_result"
    },
    {
     "data": {
      "image/png": "[encoded data removed]",
      "text/plain": [
       "<Figure size 640x480 with 1 Axes>"
      ]
     },
     "metadata": {},
     "output_type": "display_data"
    }
   ],
   "source": [
    "sns.violinplot(x=\"target\", y=\"petal length (cm)\", data=df, size=6)"
   ]
  },
  {
   "cell_type": "markdown",
   "id": "1cfab6e9",
   "metadata": {
    "papermill": {
     "duration": 0.011889,
     "end_time": "2023-04-10T19:26:37.241548",
     "exception": false,
     "start_time": "2023-04-10T19:26:37.229659",
     "status": "completed"
    },
    "tags": []
   },
   "source": [
    "A violin plot simplifies and combines the benefits of the box plot and kernel density plot. In a violin plot, denser regions of the data are represented by a fatter section, while sparser regions are represented by a thinner section."
   ]
  },
  {
   "cell_type": "markdown",
   "id": "3f15b38f",
   "metadata": {
    "papermill": {
     "duration": 0.012008,
     "end_time": "2023-04-10T19:26:37.265588",
     "exception": false,
     "start_time": "2023-04-10T19:26:37.253580",
     "status": "completed"
    },
    "tags": []
   },
   "source": [
    "# Justification for which dataset, KNN classifier cannot perform as we expected and why:\n"
   ]
  },
  {
   "cell_type": "markdown",
   "id": "fe0d3dce",
   "metadata": {
    "papermill": {
     "duration": 0.011766,
     "end_time": "2023-04-10T19:26:37.289702",
     "exception": false,
     "start_time": "2023-04-10T19:26:37.277936",
     "status": "completed"
    },
    "tags": []
   },
   "source": [
    "The k-nearest neighbors (KNN) algorithm is a simple and effective method for classification \n",
    "and regression tasks. However, like any algorithm, it has its limitations. Some of the main \n",
    "limitations of KNN are:\n",
    "1. Computationally expensive: As the size of the dataset grows, the KNN algorithm becomes \n",
    "computationally expensive. This is because the algorithm needs to calculate the distances \n",
    "between the query instance and all the training instances for each prediction.\n",
    "2. Sensitivity to irrelevant features: KNN considers all the features of the instances, even if \n",
    "some of them are irrelevant for the prediction. This can lead to a decrease in the accuracy of \n",
    "the algorithm.\n",
    "3. Choosing the optimal value of k: The performance of KNN is highly dependent on the value \n",
    "of k (the number of neighbors to consider). Choosing an optimal value of k is not always \n",
    "straightforward and can require experimentation.\n",
    "4. Imbalanced datasets: KNN is sensitive to imbalanced datasets, where the number of \n",
    "instances of one class is much larger than the other. In such cases, the majority class may \n",
    "dominate the prediction.\n",
    "5. Outliers: KNN is sensitive to outliers, which are data points that are significantly different \n",
    "from other data points. Outliers can have a significant impact on the distances between the \n",
    "query instance and its neighbors and can lead to inaccurate predictions.\n",
    "6. Noisy data: KNN is sensitive to noisy data, which are data points that contain errors or \n",
    "inconsistencies. Noisy data can affect the distances between the query instance and its \n",
    "neighbors and can lead to inaccurate predictions.\n",
    "Overall, KNN is a simple and intuitive algorithm that can work well for many classification \n",
    "and regression tasks. However, it is important to be aware of its limitations and to use it in \n",
    "situations where it is appropriate.\n"
   ]
  },
  {
   "cell_type": "markdown",
   "id": "bc8b9257",
   "metadata": {
    "papermill": {
     "duration": 0.011952,
     "end_time": "2023-04-10T19:26:37.313759",
     "exception": false,
     "start_time": "2023-04-10T19:26:37.301807",
     "status": "completed"
    },
    "tags": []
   },
   "source": [
    "# Limitations of KNN:\n"
   ]
  },
  {
   "cell_type": "markdown",
   "id": "c934402e",
   "metadata": {
    "papermill": {
     "duration": 0.011924,
     "end_time": "2023-04-10T19:26:37.337841",
     "exception": false,
     "start_time": "2023-04-10T19:26:37.325917",
     "status": "completed"
    },
    "tags": []
   },
   "source": [
    "\n",
    "The k-nearest neighbors (KNN) algorithm is a simple and effective method for classification \n",
    "and regression tasks. However, like any algorithm, it has its limitations. Some of the main \n",
    "limitations of KNN are:\n",
    "1. Computationally expensive: As the size of the dataset grows, the KNN algorithm becomes \n",
    "computationally expensive. This is because the algorithm needs to calculate the distances \n",
    "between the query instance and all the training instances for each prediction.\n",
    "2. Sensitivity to irrelevant features: KNN considers all the features of the instances, even if \n",
    "some of them are irrelevant for the prediction. This can lead to a decrease in the accuracy of \n",
    "the algorithm.\n",
    "3. Choosing the optimal value of k: The performance of KNN is highly dependent on the value \n",
    "of k (the number of neighbors to consider). Choosing an optimal value of k is not always \n",
    "straightforward and can require experimentation.\n",
    "4. Imbalanced datasets: KNN is sensitive to imbalanced datasets, where the number of \n",
    "instances of one class is much larger than the other. In such cases, the majority class may \n",
    "dominate the prediction.\n",
    "5. Outliers: KNN is sensitive to outliers, which are data points that are significantly different \n",
    "from other data points. Outliers can have a significant impact on the distances between the \n",
    "query instance and its neighbors and can lead to inaccurate predictions.\n",
    "6. Noisy data: KNN is sensitive to noisy data, which are data points that contain errors or \n",
    "inconsistencies. Noisy data can affect the distances between the query instance and its \n",
    "neighbors and can lead to inaccurate predictions.\n",
    "Overall, KNN is a simple and intuitive algorithm that can work well for many classification \n",
    "and regression tasks. However, it is important to be aware of its limitations and to use it in \n",
    "situations where it is appropriate."
   ]
  },
  {
   "cell_type": "markdown",
   "id": "85e73ca8",
   "metadata": {
    "papermill": {
     "duration": 0.011772,
     "end_time": "2023-04-10T19:26:37.361756",
     "exception": false,
     "start_time": "2023-04-10T19:26:37.349984",
     "status": "completed"
    },
    "tags": []
   },
   "source": [
    "# Conclusions"
   ]
  },
  {
   "cell_type": "markdown",
   "id": "6afae55f",
   "metadata": {
    "papermill": {
     "duration": 0.011851,
     "end_time": "2023-04-10T19:26:37.385563",
     "exception": false,
     "start_time": "2023-04-10T19:26:37.373712",
     "status": "completed"
    },
    "tags": []
   },
   "source": [
    "One way to optimize the performance of a KNN classifier is by tuning the hyperparameters. \n",
    "One such hyperparameter is the weighting scheme used to calculate the contribution of each \n",
    "of the k closest points to the prediction. While this parameter is typically ignored in the \n",
    "implementation of a basic KNN classifier, it can significantly impact the efficiency and \n",
    "accuracy of the algorithm.\n",
    "\n",
    "Although the KNN classifier implemented here may be less efficient than a library function, \n",
    "it still serves its intended purpose. By adjusting the weighting scheme and other \n",
    "hyperparameters, it is possible to further improve the performance of the algorithm and \n",
    "achieve more accurate predictions"
   ]
  },
  {
   "cell_type": "markdown",
   "id": "f5dbafe7",
   "metadata": {
    "papermill": {
     "duration": 0.011792,
     "end_time": "2023-04-10T19:26:37.409294",
     "exception": false,
     "start_time": "2023-04-10T19:26:37.397502",
     "status": "completed"
    },
    "tags": []
   },
   "source": [
    "# **This is a work in progress. More to come. Stay tuned**"
   ]
  },
  {
   "cell_type": "markdown",
   "id": "f7754806",
   "metadata": {
    "papermill": {
     "duration": 0.012062,
     "end_time": "2023-04-10T19:26:37.433268",
     "exception": false,
     "start_time": "2023-04-10T19:26:37.421206",
     "status": "completed"
    },
    "tags": []
   },
   "source": [
    "# Please give this notebook an **upvote** if it helps you to understand KNN."
   ]
  },
  {
   "cell_type": "markdown",
   "id": "9fdcaedd",
   "metadata": {
    "papermill": {
     "duration": 0.011768,
     "end_time": "2023-04-10T19:26:37.457047",
     "exception": false,
     "start_time": "2023-04-10T19:26:37.445279",
     "status": "completed"
    },
    "tags": []
   },
   "source": []
  }
 ],
 "metadata": {
  "kernelspec": {
   "display_name": "Python 3",
   "language": "python",
   "name": "python3"
  },
  "language_info": {
   "codemirror_mode": {
    "name": "ipython",
    "version": 3
   },
   "file_extension": ".py",
   "mimetype": "text/x-python",
   "name": "python",
   "nbconvert_exporter": "python",
   "pygments_lexer": "ipython3",
   "version": "3.7.12"
  },
  "papermill": {
   "default_parameters": {},
   "duration": 19.821981,
   "end_time": "2023-04-10T19:26:38.190139",
   "environment_variables": {},
   "exception": null,
   "input_path": "__notebook__.ipynb",
   "output_path": "__notebook__.ipynb",
   "parameters": {},
   "start_time": "2023-04-10T19:26:18.368158",
   "version": "2.4.0"
  }
 },
 "nbformat": 4,
 "nbformat_minor": 5
}
