{
 "cells": [
  {
   "cell_type": "code",
   "execution_count": 1,
   "id": "87d071b0",
   "metadata": {},
   "outputs": [],
   "source": [
    "def ConstBoard(board):\n",
    "    print(\"Current State Of Board : \\n\\n\");\n",
    "    for i in range (0,9):\n",
    "        if((i>0) and (i%3)==0):\n",
    "            print(\"\\n\");\n",
    "        if(board[i]==0):\n",
    "            print(\"- \",end=\" \");\n",
    "        if (board[i]==1):\n",
    "            print(\"O \",end=\" \");\n",
    "        if(board[i]==-1):    \n",
    "            print(\"X \",end=\" \");\n",
    "    print(\"\\n\\n\");"
   ]
  },
  {
   "cell_type": "code",
   "execution_count": 2,
   "id": "7778f87b",
   "metadata": {},
   "outputs": [],
   "source": [
    "def ConstBoard(board):\n",
    "    print(\"Current State Of Board : \\n\\n\");\n",
    "    for i in range (0,9):\n",
    "        if((i>0) and (i%3)==0):\n",
    "            print(\"\\n\");\n",
    "        if(board[i]==0):\n",
    "            print(\"- \",end=\" \");\n",
    "        if (board[i]==1):\n",
    "            print(\"O \",end=\" \");\n",
    "        if(board[i]==-1):    \n",
    "            print(\"X \",end=\" \");\n",
    "    print(\"\\n\\n\");"
   ]
  },
  {
   "cell_type": "code",
   "execution_count": 3,
   "id": "a9df1953",
   "metadata": {},
   "outputs": [],
   "source": [
    "def User2Turn(board):\n",
    "    pos=input(\"Enter O's position from [1...9]: \");\n",
    "    pos=int(pos);\n",
    "    if(board[pos-1]!=0):\n",
    "        print(\"Wrong Move!!!\");\n",
    "        exit(0);\n",
    "    board[pos-1]=1;\n"
   ]
  },
  {
   "cell_type": "code",
   "execution_count": 4,
   "id": "8beb0f2d",
   "metadata": {},
   "outputs": [],
   "source": [
    "def minimax(board,player):\n",
    "    x=analyzeboard(board);\n",
    "    if(x!=0):\n",
    "        return (x*player);\n",
    "    pos=-1;\n",
    "    value=-2;\n",
    "    for i in range(0,9):\n",
    "        if(board[i]==0):\n",
    "            board[i]=player;\n",
    "            score=-minimax(board,(player*-1));\n",
    "            if(score>value):\n",
    "                value=score;\n",
    "                pos=i;\n",
    "            board[i]=0;\n",
    "\n",
    "    if(pos==-1):\n",
    "        return 0;\n",
    "    return value;"
   ]
  },
  {
   "cell_type": "code",
   "execution_count": 5,
   "id": "52d28638",
   "metadata": {},
   "outputs": [],
   "source": [
    "def CompTurn(board):\n",
    "    pos=-1;\n",
    "    value=-2;\n",
    "    for i in range(0,9):\n",
    "        if(board[i]==0):\n",
    "            board[i]=1;\n",
    "            score=-minimax(board, -1);\n",
    "            board[i]=0;\n",
    "            if(score>value):\n",
    "                value=score;\n",
    "                pos=i;\n",
    " \n",
    "    board[pos]=1;\n"
   ]
  },
  {
   "cell_type": "code",
   "execution_count": 6,
   "id": "0ebbdee5",
   "metadata": {},
   "outputs": [],
   "source": [
    "def analyzeboard(board):\n",
    "    cb=[[0,1,2],[3,4,5],[6,7,8],[0,3,6],[1,4,7],[2,5,8],[0,4,8],[2,4,6]];\n",
    "\n",
    "    for i in range(0,8):\n",
    "        if(board[cb[i][0]] != 0 and\n",
    "           board[cb[i][0]] == board[cb[i][1]] and\n",
    "           board[cb[i][0]] == board[cb[i][2]]):\n",
    "            return board[cb[i][2]];\n",
    "    return 0;\n"
   ]
  },
  {
   "cell_type": "code",
   "execution_count": 7,
   "id": "5cef1e56",
   "metadata": {},
   "outputs": [],
   "source": [
    "def main():\n",
    "    choice=input(\"Enter 1 for single player, 2 for multiplayer: \");\n",
    "    choice=int(choice);\n",
    "    #The broad is considered in the form of a single dimentional array.\n",
    "    #One player moves 1 and other move -1.\n",
    "    board=[0,0,0,0,0,0,0,0,0];\n",
    "    if(choice==1):\n",
    "        print(\"Computer : O Vs. You : X\");\n",
    "        player= input(\"Enter to play 1(st) or 2(nd) :\");\n",
    "        player = int(player);\n",
    "        for i in range (0,9):\n",
    "            if(analyzeboard(board)!=0):\n",
    "                break;\n",
    "            if((i+player)%2==0):\n",
    "                CompTurn(board);\n",
    "            else:\n",
    "                ConstBoard(board);\n",
    "                User1Turn(board);\n",
    "    else:\n",
    "        for i in range (0,9):\n",
    "            if(analyzeboard(board)!=0):\n",
    "                break;\n",
    "            if((i)%2==0):\n",
    "                ConstBoard(board);\n",
    "                User1Turn(board);\n",
    "            else:\n",
    "                ConstBoard(board);\n",
    "                User2Turn(board);\n",
    "         \n",
    "\n",
    "    x=analyzeboard(board);\n",
    "    if(x==0):\n",
    "         ConstBoard(board);\n",
    "         print(\"Draw!!!\")\n",
    "    if(x==-1):\n",
    "         ConstBoard(board);\n",
    "         print(\"X Wins!!! Y Loose !!!\")\n",
    "    if(x==1):\n",
    "         ConstBoard(board);\n",
    "         print(\"X Loose!!! O Wins !!!!\")"
   ]
  },
  {
   "cell_type": "code",
   "execution_count": 8,
   "id": "d2e81c48",
   "metadata": {},
   "outputs": [
    {
     "name": "stdout",
     "output_type": "stream",
     "text": [
      "Enter 1 for single player, 2 for multiplayer: 1\n",
      "Computer : O Vs. You : X\n",
      "Enter to play 1(st) or 2(nd) :1\n",
      "Current State Of Board : \n",
      "\n",
      "\n",
      "-  -  -  \n",
      "\n",
      "-  -  -  \n",
      "\n",
      "-  -  -  \n",
      "\n",
      "\n"
     ]
    },
    {
     "ename": "NameError",
     "evalue": "name 'User1Turn' is not defined",
     "output_type": "error",
     "traceback": [
      "\u001b[1;31m---------------------------------------------------------------------------\u001b[0m",
      "\u001b[1;31mNameError\u001b[0m                                 Traceback (most recent call last)",
      "Cell \u001b[1;32mIn[8], line 1\u001b[0m\n\u001b[1;32m----> 1\u001b[0m \u001b[43mmain\u001b[49m\u001b[43m(\u001b[49m\u001b[43m)\u001b[49m\n",
      "Cell \u001b[1;32mIn[7], line 18\u001b[0m, in \u001b[0;36mmain\u001b[1;34m()\u001b[0m\n\u001b[0;32m     16\u001b[0m         \u001b[38;5;28;01melse\u001b[39;00m:\n\u001b[0;32m     17\u001b[0m             ConstBoard(board);\n\u001b[1;32m---> 18\u001b[0m             \u001b[43mUser1Turn\u001b[49m(board);\n\u001b[0;32m     19\u001b[0m \u001b[38;5;28;01melse\u001b[39;00m:\n\u001b[0;32m     20\u001b[0m     \u001b[38;5;28;01mfor\u001b[39;00m i \u001b[38;5;129;01min\u001b[39;00m \u001b[38;5;28mrange\u001b[39m (\u001b[38;5;241m0\u001b[39m,\u001b[38;5;241m9\u001b[39m):\n",
      "\u001b[1;31mNameError\u001b[0m: name 'User1Turn' is not defined"
     ]
    }
   ],
   "source": [
    "main()"
   ]
  },
  {
   "cell_type": "code",
   "execution_count": null,
   "id": "7593a014",
   "metadata": {},
   "outputs": [],
   "source": []
  }
 ],
 "metadata": {
  "kernelspec": {
   "display_name": "Python 3 (ipykernel)",
   "language": "python",
   "name": "python3"
  },
  "language_info": {
   "codemirror_mode": {
    "name": "ipython",
    "version": 3
   },
   "file_extension": ".py",
   "mimetype": "text/x-python",
   "name": "python",
   "nbconvert_exporter": "python",
   "pygments_lexer": "ipython3",
   "version": "3.11.2"
  }
 },
 "nbformat": 4,
 "nbformat_minor": 5
}
