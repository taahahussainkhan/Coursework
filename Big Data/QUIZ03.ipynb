{
 "cells": [
  {
   "cell_type": "code",
   "execution_count": 1,
   "id": "e56c3dd4",
   "metadata": {},
   "outputs": [],
   "source": [
    "import numpy as np"
   ]
  },
  {
   "cell_type": "code",
   "execution_count": 47,
   "id": "a29c310b",
   "metadata": {},
   "outputs": [
    {
     "name": "stdout",
     "output_type": "stream",
     "text": [
      "[[[8502 7933 8400 1101]\n",
      "  [9038 3316 7427 5462]\n",
      "  [9915 6197 3298 7247]\n",
      "  [9564 5671 9359 4651]]\n",
      "\n",
      " [[5297 5971 1729 6513]\n",
      "  [4708 8404 8838 3042]\n",
      "  [5513 8136 7617 3786]\n",
      "  [8206 8052 2334 8197]]\n",
      "\n",
      " [[9315 8652 7847 2241]\n",
      "  [3592 3152 7170 2281]\n",
      "  [1499 5385 5402 2605]\n",
      "  [4358 5812 9836 5855]]\n",
      "\n",
      " [[6041 6673 7762 8086]\n",
      "  [5682 4960 6748 1636]\n",
      "  [9619 1893 6676 5503]\n",
      "  [9846 7476 3822 2811]]]\n"
     ]
    }
   ],
   "source": [
    "year = np.random.randint(1000,10000,size = (4,4,4))\n",
    "print(year)"
   ]
  },
  {
   "cell_type": "code",
   "execution_count": 48,
   "id": "059929ae",
   "metadata": {},
   "outputs": [],
   "source": [
    "sum = 0\n",
    "sum = year.sum(axis=0,dtype=float)"
   ]
  },
  {
   "cell_type": "code",
   "execution_count": 49,
   "id": "8c680e8e",
   "metadata": {},
   "outputs": [
    {
     "name": "stdout",
     "output_type": "stream",
     "text": [
      "Year : 1 Quarter : 1 29155.0\n",
      "Year : 1 Quarter : 2 29229.0\n",
      "Year : 1 Quarter : 3 25738.0\n",
      "Year : 1 Quarter : 4 17941.0\n",
      "Year : 2 Quarter : 1 23020.0\n",
      "Year : 2 Quarter : 2 19832.0\n",
      "Year : 2 Quarter : 3 30183.0\n",
      "Year : 2 Quarter : 4 12421.0\n",
      "Year : 3 Quarter : 1 26546.0\n",
      "Year : 3 Quarter : 2 21611.0\n",
      "Year : 3 Quarter : 3 22993.0\n",
      "Year : 3 Quarter : 4 19141.0\n",
      "Year : 4 Quarter : 1 31974.0\n",
      "Year : 4 Quarter : 2 27011.0\n",
      "Year : 4 Quarter : 3 25351.0\n",
      "Year : 4 Quarter : 4 21514.0\n"
     ]
    }
   ],
   "source": [
    "for i in range(4):\n",
    "    for j in range(4):\n",
    "         print(f'Year : {i+1} Quarter : {j+1} {sum[i][j]}')"
   ]
  },
  {
   "cell_type": "code",
   "execution_count": null,
   "id": "0a1b5e9a",
   "metadata": {},
   "outputs": [],
   "source": []
  }
 ],
 "metadata": {
  "kernelspec": {
   "display_name": "Python 3 (ipykernel)",
   "language": "python",
   "name": "python3"
  },
  "language_info": {
   "codemirror_mode": {
    "name": "ipython",
    "version": 3
   },
   "file_extension": ".py",
   "mimetype": "text/x-python",
   "name": "python",
   "nbconvert_exporter": "python",
   "pygments_lexer": "ipython3",
   "version": "3.9.12"
  }
 },
 "nbformat": 4,
 "nbformat_minor": 5
}
