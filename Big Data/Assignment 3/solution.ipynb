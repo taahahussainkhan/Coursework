{
 "cells": [
  {
   "cell_type": "code",
   "execution_count": 27,
   "metadata": {},
   "outputs": [],
   "source": [
    "import re"
   ]
  },
  {
   "attachments": {},
   "cell_type": "markdown",
   "metadata": {},
   "source": [
    "#### 1.\tMatch a valid email address. (l1f20bscs0001@ucp.edu.pk)"
   ]
  },
  {
   "cell_type": "code",
   "execution_count": 28,
   "metadata": {},
   "outputs": [
    {
     "name": "stdout",
     "output_type": "stream",
     "text": [
      "John, a dedicated professional, can be reached at john@example.com,\n",
      "which serves as his primary email address l1f20bscs0001@ucp.edu.pk for any inquiries or communication. Alongside,\n",
      "here are some interesting websites to explore: https://www.example.com, http://google.com,\n",
      "and www.yahoo.com. l1f20bscs0301@umt.edu.pk If you wish to connect via phone, the valid phone numbers to reach out \n",
      "to him include +92-300-8597654 or the simpler format 123-456-7890. While exploring a sentence,\n",
      "you may notice multiple words that start with capital letters, indicating their significance. \n",
      "In a given text, you can easily replace the word 'old' with 'new' to update the context accordingly. \n",
      "For numerical analysis, the string contains various numbers such as 123, 45.6, -7.89, and 0, \n",
      "each carrying its own meaning. Evaluating the string further, it consists of alphanumeric characters \n",
      "like Abc123, demonstrating the fusion of letters and numbers. Additionally, the provided HTML document \n",
      "with tags encapsulates the structure of a webpage, including elements like <html>, <body>, <h1>, and <p>. \n",
      "Exploring linguistic patterns, we can extract words ending with 'ing' in a sentence, such as running, \n",
      "swimming, and jumping, which signify ongoing actions. Finally, removing whitespace characters from a \n",
      "string transforms 'Hello World!' into 'HelloWorld!', ensuring a clean and compact representation.\n"
     ]
    }
   ],
   "source": [
    "# Specify the file path\n",
    "file_path = 'data.txt'\n",
    "\n",
    "# Read the file and store its contents in a string\n",
    "with open(file_path, 'r') as file:\n",
    "    text_string = file.read()\n",
    "\n",
    "# Print the string\n",
    "print(text_string)"
   ]
  },
  {
   "cell_type": "code",
   "execution_count": 29,
   "metadata": {},
   "outputs": [
    {
     "name": "stdout",
     "output_type": "stream",
     "text": [
      "Valid email found\n",
      "['l1f20bscs0001@ucp.edu.pk']\n"
     ]
    }
   ],
   "source": [
    "\n",
    "email_pat = r'\\w\\d\\w\\d{2}\\w{4}\\d{4}@ucp\\.edu\\.pk'\n",
    "email_match = re.findall(email_pat, text_string)\n",
    "if email_match:\n",
    "    print('Valid email found')\n",
    "    print(email_match)\n",
    "else:\n",
    "    print('No match found')"
   ]
  },
  {
   "attachments": {},
   "cell_type": "markdown",
   "metadata": {},
   "source": [
    "#### 2.\tExtract all the URLs from a given text."
   ]
  },
  {
   "cell_type": "code",
   "execution_count": 30,
   "metadata": {},
   "outputs": [],
   "source": [
    "def extract_urls(text):\n",
    "    url_pattern = r'http[s]?://(?:[a-zA-Z]|[0-9]|[$-_@.&+]|[!*\\\\(\\\\),]|(?:%[0-9a-fA-F][0-9a-fA-F]))+'\n",
    "    urls = re.findall(url_pattern, text_string)\n",
    "    return urls"
   ]
  },
  {
   "cell_type": "code",
   "execution_count": 31,
   "metadata": {},
   "outputs": [
    {
     "name": "stdout",
     "output_type": "stream",
     "text": [
      "['https://www.example.com,', 'http://google.com,']\n"
     ]
    }
   ],
   "source": [
    "urls = extract_urls(text_string)\n",
    "print(urls)"
   ]
  },
  {
   "attachments": {},
   "cell_type": "markdown",
   "metadata": {},
   "source": [
    "#### 3.\tValidate a phone number in a specific format."
   ]
  },
  {
   "cell_type": "code",
   "execution_count": 32,
   "metadata": {},
   "outputs": [],
   "source": [
    "def validate_phone_number(text_string):\n",
    "    # Regular expression pattern to match a specific phone number format\n",
    "    pattern = r'\\+92-3\\d{2}-\\d{7}'\n",
    "\n",
    "    match = re.match(pattern, text_string)\n",
    "    if match:\n",
    "        print(\"Valid Phone Number found\")\n",
    "        print(match.group())\n",
    "    else:\n",
    "        print('No valid phone number found')"
   ]
  },
  {
   "cell_type": "code",
   "execution_count": 33,
   "metadata": {},
   "outputs": [
    {
     "name": "stdout",
     "output_type": "stream",
     "text": [
      "No valid phone number found\n"
     ]
    }
   ],
   "source": [
    "validate_phone_number(text_string)"
   ]
  },
  {
   "cell_type": "code",
   "execution_count": null,
   "metadata": {},
   "outputs": [],
   "source": []
  }
 ],
 "metadata": {
  "kernelspec": {
   "display_name": "Python 3",
   "language": "python",
   "name": "python3"
  },
  "language_info": {
   "codemirror_mode": {
    "name": "ipython",
    "version": 3
   },
   "file_extension": ".py",
   "mimetype": "text/x-python",
   "name": "python",
   "nbconvert_exporter": "python",
   "pygments_lexer": "ipython3",
   "version": "3.7.9"
  },
  "orig_nbformat": 4
 },
 "nbformat": 4,
 "nbformat_minor": 2
}
