{
 "cells": [
  {
   "cell_type": "code",
   "execution_count": 16,
   "metadata": {},
   "outputs": [],
   "source": [
    "import re"
   ]
  },
  {
   "attachments": {},
   "cell_type": "markdown",
   "metadata": {},
   "source": [
    "#### 1.\tMatch a valid email address. (l1f20bscs0001@ucp.edu.pk)"
   ]
  },
  {
   "cell_type": "code",
   "execution_count": 17,
   "metadata": {},
   "outputs": [
    {
     "data": {
      "text/plain": [
       "\"John, a dedicated professional, can be reached at john@example.com,\\nwhich serves as his primary email address l1f20bscs0001@ucp.edu.pk for any inquiries or communication. Alongside,\\nhere are some interesting websites to explore: https://www.example.com, http://google.com,\\nand www.yahoo.com. l1f20bscs0301@umt.edu.pk If you wish to connect via phone, the valid phone numbers to reach out \\nto him include +92-300-8597654 or the simpler format 123-456-7890. While exploring a sentence,\\nyou may notice multiple words that start with capital letters, indicating their significance. \\nIn a given text, you can easily replace the word 'old' with 'new' to update the context accordingly. \\nFor numerical analysis, the string contains various numbers such as 123, 45.6, -7.89, and 0, \\neach carrying its own meaning. Evaluating the string further, it consists of alphanumeric characters \\nlike Abc123, demonstrating the fusion of letters and numbers. Additionally, the provided HTML document \\nwith tags encapsulates the structure of a webpage, including elements like <html>, <body>, <h1>, and <p>. \\nExploring linguistic patterns, we can extract words ending with 'ing' in a sentence, such as running, \\nswimming, and jumping, which signify ongoing actions. Finally, removing whitespace characters from a \\nstring transforms 'Hello World!' into 'HelloWorld!', ensuring a clean and compact representation.\""
      ]
     },
     "execution_count": 17,
     "metadata": {},
     "output_type": "execute_result"
    }
   ],
   "source": [
    "file_path = 'data.txt'\n",
    "with open(file_path, 'r') as file:\n",
    "    text_string = file.read()\n",
    "text_string"
   ]
  },
  {
   "cell_type": "code",
   "execution_count": 18,
   "metadata": {},
   "outputs": [
    {
     "name": "stdout",
     "output_type": "stream",
     "text": [
      "Valid email found\n",
      "['l1f20bscs0001@ucp.edu.pk']\n"
     ]
    }
   ],
   "source": [
    "\n",
    "email_pat = r'\\w\\d\\w\\d{2}\\w{4}\\d{4}@ucp\\.edu\\.pk'\n",
    "email_match = re.findall(email_pat, text_string)\n",
    "if email_match:\n",
    "    print('Valid email found')\n",
    "    print(email_match)\n",
    "else:\n",
    "    print('No match found')"
   ]
  },
  {
   "attachments": {},
   "cell_type": "markdown",
   "metadata": {},
   "source": [
    "#### 2.\tExtract all the URLs from a given text."
   ]
  },
  {
   "cell_type": "code",
   "execution_count": 19,
   "metadata": {},
   "outputs": [],
   "source": [
    "def extract_urls(text):\n",
    "    url_pattern = r'http[s]?://(?:[a-zA-Z]|[0-9]|[$-_@.&+]|[!*\\\\(\\\\),]|(?:%[0-9a-fA-F][0-9a-fA-F]))+'\n",
    "    urls = re.findall(url_pattern, text_string)\n",
    "    return urls"
   ]
  },
  {
   "cell_type": "code",
   "execution_count": 20,
   "metadata": {},
   "outputs": [
    {
     "name": "stdout",
     "output_type": "stream",
     "text": [
      "['https://www.example.com,', 'http://google.com,']\n"
     ]
    }
   ],
   "source": [
    "urls = extract_urls(text_string)\n",
    "print(urls)"
   ]
  },
  {
   "attachments": {},
   "cell_type": "markdown",
   "metadata": {},
   "source": [
    "#### 3.\tValidate a phone number in a specific format."
   ]
  },
  {
   "cell_type": "code",
   "execution_count": 21,
   "metadata": {},
   "outputs": [
    {
     "name": "stdout",
     "output_type": "stream",
     "text": [
      "Valid phone number found\n"
     ]
    }
   ],
   "source": [
    "\n",
    "pattern = r'(\\+92|0)?(3[0-9]{2})[-]?([0-9]{7})'\n",
    "match = re.findall(pattern, text_string)\n",
    "if match:\n",
    "    print('Valid phone number found')\n",
    "else:\n",
    "    print('No match found')"
   ]
  },
  {
   "attachments": {},
   "cell_type": "markdown",
   "metadata": {},
   "source": [
    "#### 4.\tFind all the words that start with a capital letter in a sentence."
   ]
  },
  {
   "cell_type": "code",
   "execution_count": 22,
   "metadata": {},
   "outputs": [
    {
     "name": "stdout",
     "output_type": "stream",
     "text": [
      "Capitalized words:\n",
      "['John', 'Alongside', 'If', 'While', 'In', 'For', 'Evaluating', 'Additionally', 'HTML', 'Exploring', 'Finally', 'Hello', 'World', 'HelloWorld']\n"
     ]
    }
   ],
   "source": [
    "def find_capitalized_words(text_string):\n",
    "    pattern = r'\\b[A-Z][a-zA-Z]*\\b'\n",
    "    capitalized_words = re.findall(pattern, text_string)\n",
    "    return capitalized_words\n",
    "capitalized_words = find_capitalized_words(text_string)\n",
    "\n",
    "print(\"Capitalized words:\")\n",
    "print(capitalized_words)\n"
   ]
  },
  {
   "attachments": {},
   "cell_type": "markdown",
   "metadata": {},
   "source": [
    "#### 5.\tReplace all occurrences of a specific word with another word in a given text."
   ]
  },
  {
   "cell_type": "code",
   "execution_count": 23,
   "metadata": {},
   "outputs": [
    {
     "data": {
      "text/plain": [
       "\"John,dedicated professional, can be reached at john@example.com,\\nwhich serves as his primary email address l1f20bscs0001@ucp.edu.pk for any inquiries or communication. Alongside,\\nhere are some interesting websites to explore: https://www.example.com, http://google.com,\\nand www.yahoo.com. l1f20bscs0301@umt.edu.pk If you wish to connect via phone, the valid phone numbers to reach out \\nto him include +92-300-8597654 or the simpler format 123-456-7890. While exploringsentence,\\nyou may notice multiple words that start with capital letters, indicating their significance. \\nIngiven text, you can easily replace the word 'old' with 'new' to update the context accordingly. \\nFor numerical analysis, the string contains various numbers such as 123, 45.6, -7.89, and 0, \\neach carrying its own meaning. Evaluating the string further, it consists of alphanumeric characters \\nlike Abc123, demonstrating the fusion of letters and numbers. Additionally, the provided HTML document \\nwith tags encapsulates the structure ofwebpage, including elements like <html>, <body>, <h1>, and <p>. \\nExploring linguistic patterns, we can extract words ending with 'ing' insentence, such as running, \\nswimming, and jumping, which signify ongoing actions. Finally, removing whitespace characters from\\nstring transforms 'Hello World!' into 'HelloWorld!', ensuringclean and compact representation.\""
      ]
     },
     "execution_count": 23,
     "metadata": {},
     "output_type": "execute_result"
    }
   ],
   "source": [
    "rep = re.sub('\\sa\\s','',text_string)\n",
    "rep"
   ]
  },
  {
   "attachments": {},
   "cell_type": "markdown",
   "metadata": {},
   "source": [
    "#### 6.\tExtract all the numbers from a string."
   ]
  },
  {
   "cell_type": "code",
   "execution_count": 24,
   "metadata": {},
   "outputs": [
    {
     "data": {
      "text/plain": [
       "['1',\n",
       " '20',\n",
       " '0001',\n",
       " '1',\n",
       " '20',\n",
       " '0301',\n",
       " '92',\n",
       " '300',\n",
       " '8597654',\n",
       " '123',\n",
       " '456',\n",
       " '7890',\n",
       " '123',\n",
       " '45',\n",
       " '6',\n",
       " '7',\n",
       " '89',\n",
       " '0',\n",
       " '123',\n",
       " '1']"
      ]
     },
     "execution_count": 24,
     "metadata": {},
     "output_type": "execute_result"
    }
   ],
   "source": [
    "nums = re.findall(r'\\d+', rep)\n",
    "nums"
   ]
  },
  {
   "attachments": {},
   "cell_type": "markdown",
   "metadata": {},
   "source": [
    "#### 7.\tDetermine if a string contains only alphanumeric characters."
   ]
  },
  {
   "cell_type": "code",
   "execution_count": 30,
   "metadata": {},
   "outputs": [],
   "source": [
    "def is_alphanumeric(text_string):\n",
    "    for char in text_string:\n",
    "        if not char.isalnum():\n",
    "            return False\n",
    "    return True\n"
   ]
  },
  {
   "cell_type": "code",
   "execution_count": 31,
   "metadata": {},
   "outputs": [
    {
     "name": "stdout",
     "output_type": "stream",
     "text": [
      "It is not alphanumeric\n"
     ]
    }
   ],
   "source": [
    "if is_alphanumeric(text_string):\n",
    "    print('It is alphanumeric')\n",
    "else:\n",
    "    print('It is not alphanumeric')"
   ]
  },
  {
   "attachments": {},
   "cell_type": "markdown",
   "metadata": {},
   "source": [
    "#### 8.\tFind all the HTML tags in an HTML document."
   ]
  },
  {
   "cell_type": "code",
   "execution_count": null,
   "metadata": {},
   "outputs": [],
   "source": [
    "def get_HTML_tags(text_string):\n",
    "    pattern = r'<[^>]+>'\n",
    "    HTML_tags = re.findall(pattern, text_string)\n",
    "    return HTML_tags"
   ]
  },
  {
   "cell_type": "code",
   "execution_count": null,
   "metadata": {},
   "outputs": [
    {
     "data": {
      "text/plain": [
       "['<html>', '<body>', '<h1>', '<p>']"
      ]
     },
     "execution_count": 85,
     "metadata": {},
     "output_type": "execute_result"
    }
   ],
   "source": [
    "get_HTML_tags(text_string)"
   ]
  },
  {
   "attachments": {},
   "cell_type": "markdown",
   "metadata": {},
   "source": [
    "#### 9.\tExtract all the words ending with \"ing\" in a sentence."
   ]
  },
  {
   "cell_type": "code",
   "execution_count": null,
   "metadata": {},
   "outputs": [],
   "source": [
    "def get_ing_words(text_string):\n",
    "    pattern = r'\\b\\w+ing\\b'\n",
    "    ing_words = re.findall(pattern, text_string)\n",
    "    return ing_words"
   ]
  },
  {
   "cell_type": "code",
   "execution_count": null,
   "metadata": {},
   "outputs": [
    {
     "data": {
      "text/plain": [
       "['interesting',\n",
       " 'exploring',\n",
       " 'indicating',\n",
       " 'string',\n",
       " 'carrying',\n",
       " 'meaning',\n",
       " 'Evaluating',\n",
       " 'string',\n",
       " 'demonstrating',\n",
       " 'including',\n",
       " 'Exploring',\n",
       " 'ending',\n",
       " 'running',\n",
       " 'swimming',\n",
       " 'jumping',\n",
       " 'ongoing',\n",
       " 'removing',\n",
       " 'string',\n",
       " 'ensuring']"
      ]
     },
     "execution_count": 87,
     "metadata": {},
     "output_type": "execute_result"
    }
   ],
   "source": [
    "get_ing_words(text_string)"
   ]
  },
  {
   "attachments": {},
   "cell_type": "markdown",
   "metadata": {},
   "source": [
    "#### 10.\tRemove all whitespace characters from a string."
   ]
  },
  {
   "cell_type": "code",
   "execution_count": null,
   "metadata": {},
   "outputs": [],
   "source": [
    "def remove_Spaces(text_string):\n",
    "    pattern = r'\\s+'\n",
    "    no_spaces = re.sub(pattern, '', text_string)\n",
    "    return no_spaces"
   ]
  },
  {
   "cell_type": "code",
   "execution_count": null,
   "metadata": {},
   "outputs": [
    {
     "data": {
      "text/plain": [
       "\"John,adedicatedprofessional,canbereachedatjohn@example.com,whichservesashisprimaryemailaddressl1f20bscs0001@ucp.edu.pkforanyinquiriesorcommunication.Alongside,herearesomeinterestingwebsitestoexplore:https://www.example.com,http://google.com,andwww.yahoo.com.l1f20bscs0301@umt.edu.pkIfyouwishtoconnectviaphone,thevalidphonenumberstoreachouttohiminclude+92-300-8597654orthesimplerformat123-456-7890.Whileexploringasentence,youmaynoticemultiplewordsthatstartwithcapitalletters,indicatingtheirsignificance.Inagiventext,youcaneasilyreplacetheword'old'with'new'toupdatethecontextaccordingly.Fornumericalanalysis,thestringcontainsvariousnumberssuchas123,45.6,-7.89,and0,eachcarryingitsownmeaning.Evaluatingthestringfurther,itconsistsofalphanumericcharacterslikeAbc123,demonstratingthefusionoflettersandnumbers.Additionally,theprovidedHTMLdocumentwithtagsencapsulatesthestructureofawebpage,includingelementslike<html>,<body>,<h1>,and<p>.Exploringlinguisticpatterns,wecanextractwordsendingwith'ing'inasentence,suchasrunning,swimming,andjumping,whichsignifyongoingactions.Finally,removingwhitespacecharactersfromastringtransforms'HelloWorld!'into'HelloWorld!',ensuringacleanandcompactrepresentation.\""
      ]
     },
     "execution_count": 89,
     "metadata": {},
     "output_type": "execute_result"
    }
   ],
   "source": [
    "remove_Spaces(text_string)"
   ]
  },
  {
   "cell_type": "code",
   "execution_count": null,
   "metadata": {},
   "outputs": [],
   "source": []
  }
 ],
 "metadata": {
  "kernelspec": {
   "display_name": "Python 3",
   "language": "python",
   "name": "python3"
  },
  "language_info": {
   "codemirror_mode": {
    "name": "ipython",
    "version": 3
   },
   "file_extension": ".py",
   "mimetype": "text/x-python",
   "name": "python",
   "nbconvert_exporter": "python",
   "pygments_lexer": "ipython3",
   "version": "3.7.9"
  },
  "orig_nbformat": 4
 },
 "nbformat": 4,
 "nbformat_minor": 2
}
